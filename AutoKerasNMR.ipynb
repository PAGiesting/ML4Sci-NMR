{
 "cells": [
  {
   "cell_type": "markdown",
   "metadata": {},
   "source": [
    "# AutoKeras\n",
    "StructuredDataBlock for preprocessing\n",
    "\n",
    "Pass 1: Straight to RegressionHead\n",
    "\n",
    "Pass 2: Dense Block\n",
    "\n",
    "RegressionHead for final prediction\n",
    "\n",
    "Pass 3: RNN (not) - StructuredDataRegressor single shot\n",
    "\n",
    "Pass 4: SDB -> RH with custom loss\n",
    "\n",
    "Pass 5: SDB -> DB -> RH with custom loss\n",
    "\n",
    "Pass 6: SDR with custom loss"
   ]
  },
  {
   "cell_type": "code",
   "execution_count": 1,
   "metadata": {},
   "outputs": [],
   "source": [
    "import numpy as np\n",
    "import matplotlib.pyplot as plt\n",
    "import pandas as pd\n",
    "import autokeras as ak"
   ]
  },
  {
   "cell_type": "code",
   "execution_count": 10,
   "metadata": {},
   "outputs": [],
   "source": [
    "import keras.backend as K"
   ]
  },
  {
   "cell_type": "code",
   "execution_count": 45,
   "metadata": {},
   "outputs": [],
   "source": [
    "import sklearn.metrics"
   ]
  },
  {
   "cell_type": "code",
   "execution_count": 46,
   "metadata": {},
   "outputs": [],
   "source": [
    "# mean version of gross error metric\n",
    "def weight_mse(truth,predict,**kwargs):\n",
    "    erf = 0.0\n",
    "    weight = [0.2, 20, 2, 3]\n",
    "    for col in range(4):\n",
    "        erf += sklearn.metrics.mean_squared_error(truth[:,col],predict[:,col],**kwargs) / (weight[col]**2)\n",
    "    return erf"
   ]
  },
  {
   "cell_type": "code",
   "execution_count": 3,
   "metadata": {},
   "outputs": [],
   "source": [
    "mat_file = \"mat_info.txt\"\n",
    "M_file_r = \"echos_r.txt\" # real part of echos\n",
    "M_file_i = \"echos_i.txt\" # imaginary part of echos"
   ]
  },
  {
   "cell_type": "code",
   "execution_count": 4,
   "metadata": {},
   "outputs": [
    {
     "name": "stdout",
     "output_type": "stream",
     "text": [
      "Loading into numpy arrays...\n",
      "Done with numpy loads\n"
     ]
    }
   ],
   "source": [
    "print(\"Loading into numpy arrays...\")\n",
    "# settings of each simulated material:\n",
    "# format:  |   α  |   ξ  |   p   |   d   |\n",
    "mat_info = np.loadtxt(mat_file, comments=\"#\", delimiter='\\t', unpack=False);\n",
    "\n",
    "# M(t) curve for each simulation:\n",
    "M_r = np.loadtxt(M_file_r, comments=\"#\", delimiter='\\t', unpack=False);\n",
    "M_i = np.loadtxt(M_file_i, comments=\"#\", delimiter='\\t', unpack=False);\n",
    "M = M_r + 1j*M_i;\n",
    "print(\"Done with numpy loads\")"
   ]
  },
  {
   "cell_type": "code",
   "execution_count": 5,
   "metadata": {},
   "outputs": [],
   "source": [
    "# partition data into a training and testing set using a random partition\n",
    "\n",
    "# number of M(t) curves\n",
    "N_data = np.shape(M)[0]\n",
    "\n",
    "# pick a 90%/10% split for training/testing\n",
    "test_frac = 0.10 # fraction of data to save for testing data\n",
    "div_idx = int(np.floor((1.0-test_frac)*N_data)) # integer number of curves to use for training\n",
    "order_seed = np.random.permutation(N_data) # random ordering for all curves\n",
    "\n",
    "train_idx = order_seed[0:div_idx] # first 90% of random order\n",
    "test_idx = order_seed[div_idx:N_data] # last 10% of random order\n",
    "\n",
    "# truncate time points to 210, 410\n",
    "# !!! NOTE: May want to use all of the curve, takes longer to train though !!!\n",
    "time_keep = range(0,450); # centered roughly at the echo\n",
    "\n",
    "# concatenate the real and imaginary parts together, to make a real-vector of double the length\n",
    "M_train = M[train_idx[:,None],time_keep]  # time truncation of input\n",
    "mat_train = mat_info[train_idx,:]; # get the output\n",
    "M_train = np.hstack( (np.real(M_train), np.imag(M_train)) ) # real part, then imaginary part\n",
    "\n",
    "# same as above, but for test\n",
    "M_test = M[test_idx[:,None],time_keep]\n",
    "mat_test = mat_info[test_idx,:];\n",
    "M_test = np.hstack((np.real(M_test), np.imag(M_test)))"
   ]
  },
  {
   "cell_type": "markdown",
   "metadata": {},
   "source": [
    "## Pass 1: Simple"
   ]
  },
  {
   "cell_type": "code",
   "execution_count": 24,
   "metadata": {},
   "outputs": [
    {
     "name": "stdout",
     "output_type": "stream",
     "text": [
      "INFO:tensorflow:Reloading Oracle from existing project ./auto_model/oracle.json\n",
      "INFO:tensorflow:Reloading Tuner from ./auto_model/tuner0.json\n"
     ]
    }
   ],
   "source": [
    "input_node = ak.StructuredDataInput(name='M')\n",
    "normed_node = ak.StructuredDataBlock()(input_node)\n",
    "output_node = ak.RegressionHead()(normed_node)\n",
    "\n",
    "pass1model = ak.AutoModel(inputs=input_node,outputs=output_node,\n",
    "                          overwrite=False,max_trials=10)"
   ]
  },
  {
   "cell_type": "code",
   "execution_count": 25,
   "metadata": {},
   "outputs": [
    {
     "name": "stdout",
     "output_type": "stream",
     "text": [
      "WARNING:tensorflow:Layer multi_category_encoding is casting an input tensor from dtype float64 to the layer's dtype of float32, which is new behavior in TensorFlow 2.  The layer has dtype float32 because its dtype defaults to floatx.\n",
      "\n",
      "If you intended to run this layer in float32, you can safely ignore this warning. If in doubt, this warning is likely only an issue if you are porting a TensorFlow 1.X model to TensorFlow 2.\n",
      "\n",
      "To change all layers to have dtype float64 by default, call `tf.keras.backend.set_floatx('float64')`. To change just this layer, pass dtype='float64' to the layer constructor. If you are the author of this layer, you can disable autocasting by passing autocast=False to the base Layer constructor.\n",
      "\n",
      "INFO:tensorflow:Oracle triggered exit\n",
      "WARNING:tensorflow:Layer multi_category_encoding is casting an input tensor from dtype float64 to the layer's dtype of float32, which is new behavior in TensorFlow 2.  The layer has dtype float32 because its dtype defaults to floatx.\n",
      "\n",
      "If you intended to run this layer in float32, you can safely ignore this warning. If in doubt, this warning is likely only an issue if you are porting a TensorFlow 1.X model to TensorFlow 2.\n",
      "\n",
      "To change all layers to have dtype float64 by default, call `tf.keras.backend.set_floatx('float64')`. To change just this layer, pass dtype='float64' to the layer constructor. If you are the author of this layer, you can disable autocasting by passing autocast=False to the base Layer constructor.\n",
      "\n",
      "Epoch 1/10\n",
      "282/282 [==============================] - 3s 12ms/step - loss: 13.7281 - mean_squared_error: 13.7281\n",
      "Epoch 2/10\n",
      "282/282 [==============================] - 3s 12ms/step - loss: 8.9013 - mean_squared_error: 8.9013\n",
      "Epoch 3/10\n",
      "282/282 [==============================] - 3s 12ms/step - loss: 8.8080 - mean_squared_error: 8.8080\n",
      "Epoch 4/10\n",
      "282/282 [==============================] - 3s 12ms/step - loss: 8.7777 - mean_squared_error: 8.7777\n",
      "Epoch 5/10\n",
      "282/282 [==============================] - 3s 12ms/step - loss: 8.7601 - mean_squared_error: 8.7601\n",
      "Epoch 6/10\n",
      "282/282 [==============================] - 4s 13ms/step - loss: 8.7486 - mean_squared_error: 8.7486\n",
      "Epoch 7/10\n",
      "282/282 [==============================] - 4s 13ms/step - loss: 8.7404 - mean_squared_error: 8.7404\n",
      "Epoch 8/10\n",
      "282/282 [==============================] - 3s 12ms/step - loss: 8.7338 - mean_squared_error: 8.7338\n",
      "Epoch 9/10\n",
      "282/282 [==============================] - 3s 12ms/step - loss: 8.7280 - mean_squared_error: 8.7280\n",
      "Epoch 10/10\n",
      "282/282 [==============================] - 3s 12ms/step - loss: 8.7223 - mean_squared_error: 8.7223\n",
      "INFO:tensorflow:Assets written to: ./auto_model/best_model/assets\n"
     ]
    }
   ],
   "source": [
    "# Feed the AutoModel with training data.\n",
    "pass1model.fit(M_train, mat_train, epochs=10)"
   ]
  },
  {
   "cell_type": "code",
   "execution_count": 26,
   "metadata": {},
   "outputs": [],
   "source": [
    "# Predict with the best model.\n",
    "mat_tr_pred = pass1model.predict(M_train)\n",
    "mat_test_pred = pass1model.predict(M_test)"
   ]
  },
  {
   "cell_type": "code",
   "execution_count": 10,
   "metadata": {},
   "outputs": [
    {
     "name": "stdout",
     "output_type": "stream",
     "text": [
      "Training score for pass 1: 0.26750121506203844\n",
      "Test score for pass 1: 0.27397634423938805\n"
     ]
    }
   ],
   "source": [
    "# Evaluate the best model with testing data.\n",
    "# this pass was max_trials=3, epochs=3\n",
    "print(\"Training score for pass 1:\",weight_mse(mat_train,mat_tr_pred))\n",
    "print('Test score for pass 1:',weight_mse(mat_test,mat_test_pred))"
   ]
  },
  {
   "cell_type": "code",
   "execution_count": 20,
   "metadata": {},
   "outputs": [
    {
     "name": "stdout",
     "output_type": "stream",
     "text": [
      "Training score for pass 1: 0.28927788964675033\n",
      "Test score for pass 1: 0.2965243776861328\n"
     ]
    }
   ],
   "source": [
    "# Evaluate the best model with testing data.\n",
    "# this pass was max_trials=10, epochs=3\n",
    "print(\"Training score for pass 1:\",weight_mse(mat_train,mat_tr_pred))\n",
    "print('Test score for pass 1:',weight_mse(mat_test,mat_test_pred))"
   ]
  },
  {
   "cell_type": "code",
   "execution_count": 27,
   "metadata": {},
   "outputs": [
    {
     "name": "stdout",
     "output_type": "stream",
     "text": [
      "Training score for pass 1: 0.24506302193982304\n",
      "Test score for pass 1: 0.2534315585753316\n"
     ]
    }
   ],
   "source": [
    "# Evaluate the best model with testing data.\n",
    "# this pass was max_trials=10, epochs=10\n",
    "print(\"Training score for pass 1:\",weight_mse(mat_train,mat_tr_pred))\n",
    "print('Test score for pass 1:',weight_mse(mat_test,mat_test_pred))"
   ]
  },
  {
   "cell_type": "markdown",
   "metadata": {},
   "source": [
    "## Pass 2: Dense Block"
   ]
  },
  {
   "cell_type": "code",
   "execution_count": 28,
   "metadata": {},
   "outputs": [
    {
     "name": "stdout",
     "output_type": "stream",
     "text": [
      "INFO:tensorflow:Reloading Oracle from existing project ./auto_model/oracle.json\n",
      "INFO:tensorflow:Reloading Tuner from ./auto_model/tuner0.json\n"
     ]
    }
   ],
   "source": [
    "input_2node = ak.StructuredDataInput(name='M')\n",
    "normed_2node = ak.StructuredDataBlock()(input_2node)\n",
    "dense_2node = ak.DenseBlock()(normed_2node)\n",
    "output_2node = ak.RegressionHead()(dense_2node)\n",
    "\n",
    "pass2model = ak.AutoModel(inputs=input_2node,outputs=output_2node,\n",
    "                          overwrite=False,max_trials=10)"
   ]
  },
  {
   "cell_type": "code",
   "execution_count": 29,
   "metadata": {},
   "outputs": [
    {
     "name": "stdout",
     "output_type": "stream",
     "text": [
      "WARNING:tensorflow:Layer multi_category_encoding is casting an input tensor from dtype float64 to the layer's dtype of float32, which is new behavior in TensorFlow 2.  The layer has dtype float32 because its dtype defaults to floatx.\n",
      "\n",
      "If you intended to run this layer in float32, you can safely ignore this warning. If in doubt, this warning is likely only an issue if you are porting a TensorFlow 1.X model to TensorFlow 2.\n",
      "\n",
      "To change all layers to have dtype float64 by default, call `tf.keras.backend.set_floatx('float64')`. To change just this layer, pass dtype='float64' to the layer constructor. If you are the author of this layer, you can disable autocasting by passing autocast=False to the base Layer constructor.\n",
      "\n",
      "INFO:tensorflow:Oracle triggered exit\n",
      "WARNING:tensorflow:Layer multi_category_encoding is casting an input tensor from dtype float64 to the layer's dtype of float32, which is new behavior in TensorFlow 2.  The layer has dtype float32 because its dtype defaults to floatx.\n",
      "\n",
      "If you intended to run this layer in float32, you can safely ignore this warning. If in doubt, this warning is likely only an issue if you are porting a TensorFlow 1.X model to TensorFlow 2.\n",
      "\n",
      "To change all layers to have dtype float64 by default, call `tf.keras.backend.set_floatx('float64')`. To change just this layer, pass dtype='float64' to the layer constructor. If you are the author of this layer, you can disable autocasting by passing autocast=False to the base Layer constructor.\n",
      "\n",
      "Epoch 1/10\n",
      "282/282 [==============================] - 3s 12ms/step - loss: 13.1476 - mean_squared_error: 13.1476\n",
      "Epoch 2/10\n",
      "282/282 [==============================] - 3s 12ms/step - loss: 8.8349 - mean_squared_error: 8.8349\n",
      "Epoch 3/10\n",
      "282/282 [==============================] - 3s 12ms/step - loss: 8.7950 - mean_squared_error: 8.7950\n",
      "Epoch 4/10\n",
      "282/282 [==============================] - 3s 11ms/step - loss: 8.7784 - mean_squared_error: 8.7784\n",
      "Epoch 5/10\n",
      "282/282 [==============================] - 3s 12ms/step - loss: 8.7673 - mean_squared_error: 8.7673\n",
      "Epoch 6/10\n",
      "282/282 [==============================] - 3s 12ms/step - loss: 8.7571 - mean_squared_error: 8.7571\n",
      "Epoch 7/10\n",
      "282/282 [==============================] - 3s 12ms/step - loss: 8.7468 - mean_squared_error: 8.7468\n",
      "Epoch 8/10\n",
      "282/282 [==============================] - 3s 12ms/step - loss: 8.7378 - mean_squared_error: 8.7378\n",
      "Epoch 9/10\n",
      "282/282 [==============================] - 3s 12ms/step - loss: 8.7310 - mean_squared_error: 8.7310\n",
      "Epoch 10/10\n",
      "282/282 [==============================] - 3s 12ms/step - loss: 8.7257 - mean_squared_error: 8.7257\n",
      "INFO:tensorflow:Assets written to: ./auto_model/best_model/assets\n"
     ]
    }
   ],
   "source": [
    "# Feed the AutoModel with training data.\n",
    "pass2model.fit(M_train, mat_train, epochs=10)"
   ]
  },
  {
   "cell_type": "code",
   "execution_count": 30,
   "metadata": {},
   "outputs": [],
   "source": [
    "# Predict with the best model.\n",
    "mat_tr_2pred = pass2model.predict(M_train)\n",
    "mat_test_2pred = pass2model.predict(M_test)"
   ]
  },
  {
   "cell_type": "code",
   "execution_count": 14,
   "metadata": {},
   "outputs": [
    {
     "name": "stdout",
     "output_type": "stream",
     "text": [
      "Training score for pass 2: 0.4252571899704011\n",
      "Test score for pass 2: 0.43745340949752143\n"
     ]
    }
   ],
   "source": [
    "# Evaluate the best model with testing data.\n",
    "# max 3 ep 3\n",
    "print(\"Training score for pass 2:\",weight_mse(mat_train,mat_tr_2pred))\n",
    "print('Test score for pass 2:',weight_mse(mat_test,mat_test_2pred))"
   ]
  },
  {
   "cell_type": "code",
   "execution_count": 31,
   "metadata": {},
   "outputs": [
    {
     "name": "stdout",
     "output_type": "stream",
     "text": [
      "Training score for pass 2: 0.22891999941858387\n",
      "Test score for pass 2: 0.23610102497845947\n"
     ]
    }
   ],
   "source": [
    "# Evaluate the best model with testing data.\n",
    "# max 10 ep 10\n",
    "print(\"Training score for pass 2:\",weight_mse(mat_train,mat_tr_2pred))\n",
    "print('Test score for pass 2:',weight_mse(mat_test,mat_test_2pred))"
   ]
  },
  {
   "cell_type": "markdown",
   "metadata": {},
   "source": [
    "You've got to be KIDDING me."
   ]
  },
  {
   "cell_type": "markdown",
   "metadata": {},
   "source": [
    "## Pass 3: Structured Data Regressor"
   ]
  },
  {
   "cell_type": "code",
   "execution_count": 34,
   "metadata": {},
   "outputs": [],
   "source": [
    "pass3model = ak.StructuredDataRegressor(overwrite=False,max_trials=10)"
   ]
  },
  {
   "cell_type": "code",
   "execution_count": 35,
   "metadata": {},
   "outputs": [
    {
     "name": "stdout",
     "output_type": "stream",
     "text": [
      "Trial 10 Complete [00h 01m 17s]\n",
      "val_loss: 8.999482154846191\n",
      "\n",
      "Best val_loss So Far: 8.889352798461914\n",
      "Total elapsed time: 00h 11m 31s\n",
      "INFO:tensorflow:Oracle triggered exit\n",
      "WARNING:tensorflow:Layer multi_category_encoding is casting an input tensor from dtype float64 to the layer's dtype of float32, which is new behavior in TensorFlow 2.  The layer has dtype float32 because its dtype defaults to floatx.\n",
      "\n",
      "If you intended to run this layer in float32, you can safely ignore this warning. If in doubt, this warning is likely only an issue if you are porting a TensorFlow 1.X model to TensorFlow 2.\n",
      "\n",
      "To change all layers to have dtype float64 by default, call `tf.keras.backend.set_floatx('float64')`. To change just this layer, pass dtype='float64' to the layer constructor. If you are the author of this layer, you can disable autocasting by passing autocast=False to the base Layer constructor.\n",
      "\n",
      "Epoch 1/10\n",
      "282/282 [==============================] - 5s 17ms/step - loss: 34.5665 - mean_squared_error: 34.5665\n",
      "Epoch 2/10\n",
      "282/282 [==============================] - 5s 18ms/step - loss: 14.8755 - mean_squared_error: 14.8755\n",
      "Epoch 3/10\n",
      "282/282 [==============================] - 6s 20ms/step - loss: 9.3837 - mean_squared_error: 9.3837\n",
      "Epoch 4/10\n",
      "282/282 [==============================] - 5s 18ms/step - loss: 8.8095 - mean_squared_error: 8.8095\n",
      "Epoch 5/10\n",
      "282/282 [==============================] - 5s 18ms/step - loss: 8.7070 - mean_squared_error: 8.7070\n",
      "Epoch 6/10\n",
      "282/282 [==============================] - 5s 18ms/step - loss: 8.6274 - mean_squared_error: 8.6274\n",
      "Epoch 7/10\n",
      "282/282 [==============================] - 9s 30ms/step - loss: 8.5513 - mean_squared_error: 8.5513\n",
      "Epoch 8/10\n",
      "282/282 [==============================] - 5s 19ms/step - loss: 8.4593 - mean_squared_error: 8.4593\n",
      "Epoch 9/10\n",
      "282/282 [==============================] - 5s 18ms/step - loss: 8.3713 - mean_squared_error: 8.3713\n",
      "Epoch 10/10\n",
      "282/282 [==============================] - 5s 18ms/step - loss: 8.2762 - mean_squared_error: 8.2762\n",
      "INFO:tensorflow:Assets written to: ./structured_data_regressor/best_model/assets\n"
     ]
    }
   ],
   "source": [
    "# Feed the AutoModel with training data.\n",
    "pass3model.fit(M_train, mat_train, epochs=10)"
   ]
  },
  {
   "cell_type": "code",
   "execution_count": 36,
   "metadata": {},
   "outputs": [],
   "source": [
    "# Predict with the best model.\n",
    "mat_tr_3pred = pass3model.predict(M_train)\n",
    "mat_test_3pred = pass3model.predict(M_test)"
   ]
  },
  {
   "cell_type": "code",
   "execution_count": 37,
   "metadata": {},
   "outputs": [
    {
     "name": "stdout",
     "output_type": "stream",
     "text": [
      "Training score for pass 2: 0.3463431663037493\n",
      "Test score for pass 2: 0.37599794797173164\n"
     ]
    }
   ],
   "source": [
    "# Evaluate the best model with testing data.\n",
    "print(\"Training score for pass 3:\",weight_mse(mat_train,mat_tr_3pred))\n",
    "print('Test score for pass 3:',weight_mse(mat_test,mat_test_3pred))"
   ]
  },
  {
   "cell_type": "markdown",
   "metadata": {},
   "source": [
    "## Pass 4: Simple with custom loss"
   ]
  },
  {
   "cell_type": "code",
   "execution_count": 32,
   "metadata": {},
   "outputs": [
    {
     "name": "stdout",
     "output_type": "stream",
     "text": [
      "INFO:tensorflow:Reloading Oracle from existing project ./auto_model/oracle.json\n",
      "INFO:tensorflow:Reloading Tuner from ./auto_model/tuner0.json\n"
     ]
    }
   ],
   "source": [
    "input_4node = ak.StructuredDataInput(name='M')\n",
    "normed_4node = ak.StructuredDataBlock()(input_4node)\n",
    "#output_4node = ak.RegressionHead(loss=weight_mse,metrics=[weight_mse])(normed_4node)\n",
    "output_4node = ak.RegressionHead()(normed_4node)\n",
    "\n",
    "pass4model = ak.AutoModel(inputs=input_4node,outputs=output_4node,\n",
    "                          overwrite=False,max_trials=20)"
   ]
  },
  {
   "cell_type": "code",
   "execution_count": 33,
   "metadata": {},
   "outputs": [
    {
     "name": "stdout",
     "output_type": "stream",
     "text": [
      "WARNING:tensorflow:Layer multi_category_encoding is casting an input tensor from dtype float64 to the layer's dtype of float32, which is new behavior in TensorFlow 2.  The layer has dtype float32 because its dtype defaults to floatx.\n",
      "\n",
      "If you intended to run this layer in float32, you can safely ignore this warning. If in doubt, this warning is likely only an issue if you are porting a TensorFlow 1.X model to TensorFlow 2.\n",
      "\n",
      "To change all layers to have dtype float64 by default, call `tf.keras.backend.set_floatx('float64')`. To change just this layer, pass dtype='float64' to the layer constructor. If you are the author of this layer, you can disable autocasting by passing autocast=False to the base Layer constructor.\n",
      "\n",
      "INFO:tensorflow:Oracle triggered exit\n",
      "WARNING:tensorflow:Layer multi_category_encoding is casting an input tensor from dtype float64 to the layer's dtype of float32, which is new behavior in TensorFlow 2.  The layer has dtype float32 because its dtype defaults to floatx.\n",
      "\n",
      "If you intended to run this layer in float32, you can safely ignore this warning. If in doubt, this warning is likely only an issue if you are porting a TensorFlow 1.X model to TensorFlow 2.\n",
      "\n",
      "To change all layers to have dtype float64 by default, call `tf.keras.backend.set_floatx('float64')`. To change just this layer, pass dtype='float64' to the layer constructor. If you are the author of this layer, you can disable autocasting by passing autocast=False to the base Layer constructor.\n",
      "\n",
      "Epoch 1/20\n",
      "282/282 [==============================] - 3s 12ms/step - loss: 9.6203 - mean_squared_error: 9.6203\n",
      "Epoch 2/20\n",
      "282/282 [==============================] - 3s 12ms/step - loss: 8.9907 - mean_squared_error: 8.9907\n",
      "Epoch 3/20\n",
      "282/282 [==============================] - 3s 12ms/step - loss: 8.9256 - mean_squared_error: 8.9256\n",
      "Epoch 4/20\n",
      "282/282 [==============================] - 3s 11ms/step - loss: 8.8863 - mean_squared_error: 8.8863\n",
      "Epoch 5/20\n",
      "282/282 [==============================] - 3s 12ms/step - loss: 8.8582 - mean_squared_error: 8.8582\n",
      "Epoch 6/20\n",
      "282/282 [==============================] - 3s 12ms/step - loss: 8.8382 - mean_squared_error: 8.8382\n",
      "Epoch 7/20\n",
      "282/282 [==============================] - 3s 12ms/step - loss: 8.8237 - mean_squared_error: 8.8237\n",
      "Epoch 8/20\n",
      "282/282 [==============================] - 3s 11ms/step - loss: 8.8054 - mean_squared_error: 8.8054\n",
      "Epoch 9/20\n",
      "282/282 [==============================] - 3s 12ms/step - loss: 8.7941 - mean_squared_error: 8.7941\n",
      "Epoch 10/20\n",
      "282/282 [==============================] - 3s 12ms/step - loss: 8.7829 - mean_squared_error: 8.7829\n",
      "Epoch 11/20\n",
      "282/282 [==============================] - 3s 12ms/step - loss: 8.7738 - mean_squared_error: 8.7738\n",
      "Epoch 12/20\n",
      "282/282 [==============================] - 3s 12ms/step - loss: 8.7638 - mean_squared_error: 8.7638\n",
      "Epoch 13/20\n",
      "282/282 [==============================] - 3s 12ms/step - loss: 8.7601 - mean_squared_error: 8.7601\n",
      "Epoch 14/20\n",
      "282/282 [==============================] - 3s 12ms/step - loss: 8.7528 - mean_squared_error: 8.7528\n",
      "Epoch 15/20\n",
      "282/282 [==============================] - 3s 12ms/step - loss: 8.7468 - mean_squared_error: 8.7468\n",
      "Epoch 16/20\n",
      "282/282 [==============================] - 3s 12ms/step - loss: 8.7474 - mean_squared_error: 8.7474\n",
      "Epoch 17/20\n",
      "282/282 [==============================] - 3s 12ms/step - loss: 8.7437 - mean_squared_error: 8.7437\n",
      "Epoch 18/20\n",
      "282/282 [==============================] - 3s 12ms/step - loss: 8.7384 - mean_squared_error: 8.7384\n",
      "Epoch 19/20\n",
      "282/282 [==============================] - 4s 13ms/step - loss: 8.7283 - mean_squared_error: 8.7283\n",
      "Epoch 20/20\n",
      "282/282 [==============================] - 3s 12ms/step - loss: 8.7193 - mean_squared_error: 8.7193\n",
      "INFO:tensorflow:Assets written to: ./auto_model/best_model/assets\n"
     ]
    }
   ],
   "source": [
    "# Feed the AutoModel with training data.\n",
    "pass4model.fit(M_train, mat_train, epochs=20)"
   ]
  },
  {
   "cell_type": "code",
   "execution_count": 34,
   "metadata": {},
   "outputs": [
    {
     "name": "stdout",
     "output_type": "stream",
     "text": [
      "Model: \"functional_1\"\n",
      "_________________________________________________________________\n",
      "Layer (type)                 Output Shape              Param #   \n",
      "=================================================================\n",
      "input_1 (InputLayer)         [(None, 900)]             0         \n",
      "_________________________________________________________________\n",
      "multi_category_encoding (Mul (None, 900)               0         \n",
      "_________________________________________________________________\n",
      "dense (Dense)                (None, 32)                28832     \n",
      "_________________________________________________________________\n",
      "re_lu (ReLU)                 (None, 32)                0         \n",
      "_________________________________________________________________\n",
      "dense_1 (Dense)              (None, 32)                1056      \n",
      "_________________________________________________________________\n",
      "re_lu_1 (ReLU)               (None, 32)                0         \n",
      "_________________________________________________________________\n",
      "regression_head_1 (Dense)    (None, 4)                 132       \n",
      "=================================================================\n",
      "Total params: 30,020\n",
      "Trainable params: 30,020\n",
      "Non-trainable params: 0\n",
      "_________________________________________________________________\n"
     ]
    }
   ],
   "source": [
    "k4model = pass4model.export_model()\n",
    "k4model.summary()"
   ]
  },
  {
   "cell_type": "code",
   "execution_count": 35,
   "metadata": {},
   "outputs": [],
   "source": [
    "# Predict with the best model.\n",
    "mat_tr_4pred = pass4model.predict(M_train)\n",
    "mat_test_4pred = pass4model.predict(M_test)"
   ]
  },
  {
   "cell_type": "code",
   "execution_count": 47,
   "metadata": {},
   "outputs": [
    {
     "name": "stdout",
     "output_type": "stream",
     "text": [
      "Training score for pass 4: 0.2116728747041598\n",
      "Test score for pass 4: 0.21742821232870757\n"
     ]
    }
   ],
   "source": [
    "# Evaluate the best model with testing data.\n",
    "# this pass was max_trials=20, epochs=20\n",
    "# did not use weight_mse as metric, only as loss\n",
    "print(\"Training score for pass 4:\",weight_mse(mat_train,mat_tr_4pred))\n",
    "print('Test score for pass 4:',weight_mse(mat_test,mat_test_4pred))"
   ]
  },
  {
   "cell_type": "code",
   "execution_count": 50,
   "metadata": {},
   "outputs": [
    {
     "data": {
      "image/png": "[encoded data removed]",
      "text/plain": [
       "<Figure size 432x288 with 1 Axes>"
      ]
     },
     "metadata": {
      "needs_background": "light"
     },
     "output_type": "display_data"
    },
    {
     "data": {
      "image/png": "[encoded data removed]",
      "text/plain": [
       "<Figure size 432x288 with 1 Axes>"
      ]
     },
     "metadata": {
      "needs_background": "light"
     },
     "output_type": "display_data"
    },
    {
     "data": {
      "image/png": "[encoded data removed]",
      "text/plain": [
       "<Figure size 432x288 with 1 Axes>"
      ]
     },
     "metadata": {
      "needs_background": "light"
     },
     "output_type": "display_data"
    },
    {
     "data": {
      "image/png": "[encoded data removed]",
      "text/plain": [
       "<Figure size 432x288 with 1 Axes>"
      ]
     },
     "metadata": {
      "needs_background": "light"
     },
     "output_type": "display_data"
    }
   ],
   "source": [
    "plt.scatter(mat_test[:,0],mat_test_4pred[:,0]);\n",
    "plt.plot([-100, 100],[-100, 100],\"--k\")\n",
    "plt.xlabel(\"True alpha\");\n",
    "plt.ylabel(\"Predicted alpha\");\n",
    "plt.axis([0, .2, 0, .2])\n",
    "plt.title(\"Correlation strength\")\n",
    "\n",
    "plt.figure()\n",
    "plt.scatter(mat_test[:,1],mat_test_4pred[:,1]);\n",
    "plt.plot([-100, 100],[-100, 100],\"--k\")\n",
    "plt.xlabel(\"True xi\");\n",
    "plt.ylabel(\"Predicted xi\");\n",
    "plt.axis([0, 20, 0, 20])\n",
    "plt.title(\"Correlation length\")\n",
    "\n",
    "plt.figure()\n",
    "plt.scatter(mat_test[:,2],mat_test_4pred[:,2]);\n",
    "plt.plot([-100, 100],[-100, 100],\"--k\")\n",
    "plt.xlabel(\"True p\");\n",
    "plt.ylabel(\"Predicted p\");\n",
    "plt.axis([2, 4, 2, 4])\n",
    "plt.title(\"Correlation power\")\n",
    "\n",
    "plt.figure()\n",
    "plt.scatter(mat_test[:,3],mat_test_4pred[:,3]);\n",
    "plt.plot([-100, 100],[-100, 100],\"--k\")\n",
    "plt.xlabel(\"True d\");\n",
    "plt.ylabel(\"Predicted d\");\n",
    "plt.axis([3, 6, 3, 6]);\n",
    "plt.title(\"Dissipation power\");"
   ]
  },
  {
   "cell_type": "markdown",
   "metadata": {},
   "source": [
    "## Pass 5: Dense with custom loss"
   ]
  },
  {
   "cell_type": "code",
   "execution_count": 37,
   "metadata": {},
   "outputs": [
    {
     "name": "stdout",
     "output_type": "stream",
     "text": [
      "INFO:tensorflow:Reloading Oracle from existing project ./auto_model/oracle.json\n",
      "INFO:tensorflow:Reloading Tuner from ./auto_model/tuner0.json\n"
     ]
    }
   ],
   "source": [
    "input_5node = ak.StructuredDataInput(name='M')\n",
    "normed_5node = ak.StructuredDataBlock()(input_5node)\n",
    "dense_5node = ak.DenseBlock()(normed_5node)\n",
    "#output_5node = ak.RegressionHead(loss=weight_mse,metrics=[weight_mse])(dense_5node)\n",
    "output_5node = ak.RegressionHead()(dense_5node)\n",
    "\n",
    "pass5model = ak.AutoModel(inputs=input_5node,outputs=output_5node,\n",
    "                          overwrite=False,max_trials=20)"
   ]
  },
  {
   "cell_type": "code",
   "execution_count": 38,
   "metadata": {},
   "outputs": [
    {
     "name": "stdout",
     "output_type": "stream",
     "text": [
      "WARNING:tensorflow:Layer multi_category_encoding is casting an input tensor from dtype float64 to the layer's dtype of float32, which is new behavior in TensorFlow 2.  The layer has dtype float32 because its dtype defaults to floatx.\n",
      "\n",
      "If you intended to run this layer in float32, you can safely ignore this warning. If in doubt, this warning is likely only an issue if you are porting a TensorFlow 1.X model to TensorFlow 2.\n",
      "\n",
      "To change all layers to have dtype float64 by default, call `tf.keras.backend.set_floatx('float64')`. To change just this layer, pass dtype='float64' to the layer constructor. If you are the author of this layer, you can disable autocasting by passing autocast=False to the base Layer constructor.\n",
      "\n",
      "INFO:tensorflow:Oracle triggered exit\n",
      "WARNING:tensorflow:Layer multi_category_encoding is casting an input tensor from dtype float64 to the layer's dtype of float32, which is new behavior in TensorFlow 2.  The layer has dtype float32 because its dtype defaults to floatx.\n",
      "\n",
      "If you intended to run this layer in float32, you can safely ignore this warning. If in doubt, this warning is likely only an issue if you are porting a TensorFlow 1.X model to TensorFlow 2.\n",
      "\n",
      "To change all layers to have dtype float64 by default, call `tf.keras.backend.set_floatx('float64')`. To change just this layer, pass dtype='float64' to the layer constructor. If you are the author of this layer, you can disable autocasting by passing autocast=False to the base Layer constructor.\n",
      "\n",
      "Epoch 1/20\n",
      "282/282 [==============================] - 3s 11ms/step - loss: 9.7110 - mean_squared_error: 9.7110\n",
      "Epoch 2/20\n",
      "282/282 [==============================] - 3s 11ms/step - loss: 9.0468 - mean_squared_error: 9.0468\n",
      "Epoch 3/20\n",
      "282/282 [==============================] - 3s 11ms/step - loss: 8.9700 - mean_squared_error: 8.9700\n",
      "Epoch 4/20\n",
      "282/282 [==============================] - 3s 11ms/step - loss: 8.9084 - mean_squared_error: 8.9084\n",
      "Epoch 5/20\n",
      "282/282 [==============================] - 3s 11ms/step - loss: 8.8722 - mean_squared_error: 8.8722\n",
      "Epoch 6/20\n",
      "282/282 [==============================] - 3s 11ms/step - loss: 8.8287 - mean_squared_error: 8.8287\n",
      "Epoch 7/20\n",
      "282/282 [==============================] - 3s 11ms/step - loss: 8.8011 - mean_squared_error: 8.8011\n",
      "Epoch 8/20\n",
      "282/282 [==============================] - 3s 11ms/step - loss: 8.7840 - mean_squared_error: 8.7840\n",
      "Epoch 9/20\n",
      "282/282 [==============================] - 3s 11ms/step - loss: 8.7742 - mean_squared_error: 8.7742\n",
      "Epoch 10/20\n",
      "282/282 [==============================] - 3s 11ms/step - loss: 8.7584 - mean_squared_error: 8.7584\n",
      "Epoch 11/20\n",
      "282/282 [==============================] - 3s 11ms/step - loss: 8.7512 - mean_squared_error: 8.7512\n",
      "Epoch 12/20\n",
      "282/282 [==============================] - 3s 11ms/step - loss: 8.7461 - mean_squared_error: 8.7461\n",
      "Epoch 13/20\n",
      "282/282 [==============================] - 3s 11ms/step - loss: 8.7586 - mean_squared_error: 8.7586\n",
      "Epoch 14/20\n",
      "282/282 [==============================] - 3s 11ms/step - loss: 8.7512 - mean_squared_error: 8.7512\n",
      "Epoch 15/20\n",
      "282/282 [==============================] - 3s 11ms/step - loss: 8.7399 - mean_squared_error: 8.7399\n",
      "Epoch 16/20\n",
      "282/282 [==============================] - 3s 11ms/step - loss: 8.7445 - mean_squared_error: 8.7445\n",
      "Epoch 17/20\n",
      "282/282 [==============================] - 3s 11ms/step - loss: 8.7416 - mean_squared_error: 8.7416\n",
      "Epoch 18/20\n",
      "282/282 [==============================] - 3s 11ms/step - loss: 8.7424 - mean_squared_error: 8.7424\n",
      "Epoch 19/20\n",
      "282/282 [==============================] - 3s 11ms/step - loss: 8.7415 - mean_squared_error: 8.7415\n",
      "Epoch 20/20\n",
      "282/282 [==============================] - 3s 11ms/step - loss: 8.7382 - mean_squared_error: 8.7382\n",
      "INFO:tensorflow:Assets written to: ./auto_model/best_model/assets\n"
     ]
    }
   ],
   "source": [
    "# Feed the AutoModel with training data.\n",
    "pass5model.fit(M_train, mat_train, epochs=20)"
   ]
  },
  {
   "cell_type": "code",
   "execution_count": 39,
   "metadata": {},
   "outputs": [],
   "source": [
    "# Predict with the best model.\n",
    "mat_tr_5pred = pass5model.predict(M_train)\n",
    "mat_test_5pred = pass5model.predict(M_test)"
   ]
  },
  {
   "cell_type": "code",
   "execution_count": 48,
   "metadata": {},
   "outputs": [
    {
     "name": "stdout",
     "output_type": "stream",
     "text": [
      "Training score for pass 5: 0.29959950096846444\n",
      "Test score for pass 5: 0.3034380662160586\n"
     ]
    }
   ],
   "source": [
    "# Evaluate the best model with testing data.\n",
    "# max_trials=20, epochs=20\n",
    "print(\"Training score for pass 5:\",weight_mse(mat_train,mat_tr_5pred))\n",
    "print('Test score for pass 5:',weight_mse(mat_test,mat_test_5pred))"
   ]
  },
  {
   "cell_type": "code",
   "execution_count": 51,
   "metadata": {},
   "outputs": [
    {
     "name": "stdout",
     "output_type": "stream",
     "text": [
      "Model: \"functional_1\"\n",
      "_________________________________________________________________\n",
      "Layer (type)                 Output Shape              Param #   \n",
      "=================================================================\n",
      "input_1 (InputLayer)         [(None, 900)]             0         \n",
      "_________________________________________________________________\n",
      "multi_category_encoding (Mul (None, 900)               0         \n",
      "_________________________________________________________________\n",
      "dense (Dense)                (None, 32)                28832     \n",
      "_________________________________________________________________\n",
      "re_lu (ReLU)                 (None, 32)                0         \n",
      "_________________________________________________________________\n",
      "dense_1 (Dense)              (None, 32)                1056      \n",
      "_________________________________________________________________\n",
      "re_lu_1 (ReLU)               (None, 32)                0         \n",
      "_________________________________________________________________\n",
      "dense_2 (Dense)              (None, 32)                1056      \n",
      "_________________________________________________________________\n",
      "re_lu_2 (ReLU)               (None, 32)                0         \n",
      "_________________________________________________________________\n",
      "dense_3 (Dense)              (None, 32)                1056      \n",
      "_________________________________________________________________\n",
      "re_lu_3 (ReLU)               (None, 32)                0         \n",
      "_________________________________________________________________\n",
      "regression_head_1 (Dense)    (None, 4)                 132       \n",
      "=================================================================\n",
      "Total params: 32,132\n",
      "Trainable params: 32,132\n",
      "Non-trainable params: 0\n",
      "_________________________________________________________________\n"
     ]
    }
   ],
   "source": [
    "k5model = pass5model.export_model()\n",
    "k5model.summary()"
   ]
  },
  {
   "cell_type": "markdown",
   "metadata": {},
   "source": [
    "## Pass 6: StructuredDataRegressor with custom loss"
   ]
  },
  {
   "cell_type": "code",
   "execution_count": 41,
   "metadata": {},
   "outputs": [
    {
     "name": "stdout",
     "output_type": "stream",
     "text": [
      "INFO:tensorflow:Reloading Oracle from existing project ./structured_data_regressor/oracle.json\n",
      "INFO:tensorflow:Reloading Tuner from ./structured_data_regressor/tuner0.json\n"
     ]
    }
   ],
   "source": [
    "pass6model = ak.StructuredDataRegressor(overwrite=False,max_trials=20)"
   ]
  },
  {
   "cell_type": "code",
   "execution_count": 42,
   "metadata": {},
   "outputs": [
    {
     "name": "stdout",
     "output_type": "stream",
     "text": [
      "WARNING:tensorflow:Layer multi_category_encoding is casting an input tensor from dtype float64 to the layer's dtype of float32, which is new behavior in TensorFlow 2.  The layer has dtype float32 because its dtype defaults to floatx.\n",
      "\n",
      "If you intended to run this layer in float32, you can safely ignore this warning. If in doubt, this warning is likely only an issue if you are porting a TensorFlow 1.X model to TensorFlow 2.\n",
      "\n",
      "To change all layers to have dtype float64 by default, call `tf.keras.backend.set_floatx('float64')`. To change just this layer, pass dtype='float64' to the layer constructor. If you are the author of this layer, you can disable autocasting by passing autocast=False to the base Layer constructor.\n",
      "\n",
      "INFO:tensorflow:Oracle triggered exit\n",
      "WARNING:tensorflow:Layer multi_category_encoding is casting an input tensor from dtype float64 to the layer's dtype of float32, which is new behavior in TensorFlow 2.  The layer has dtype float32 because its dtype defaults to floatx.\n",
      "\n",
      "If you intended to run this layer in float32, you can safely ignore this warning. If in doubt, this warning is likely only an issue if you are porting a TensorFlow 1.X model to TensorFlow 2.\n",
      "\n",
      "To change all layers to have dtype float64 by default, call `tf.keras.backend.set_floatx('float64')`. To change just this layer, pass dtype='float64' to the layer constructor. If you are the author of this layer, you can disable autocasting by passing autocast=False to the base Layer constructor.\n",
      "\n",
      "Epoch 1/20\n",
      "282/282 [==============================] - 4s 13ms/step - loss: 30.3687 - mean_squared_error: 30.3687\n",
      "Epoch 2/20\n",
      "282/282 [==============================] - 4s 13ms/step - loss: 13.7648 - mean_squared_error: 13.7648\n",
      "Epoch 3/20\n",
      "282/282 [==============================] - 4s 14ms/step - loss: 9.3438 - mean_squared_error: 9.3438\n",
      "Epoch 4/20\n",
      "282/282 [==============================] - 4s 13ms/step - loss: 8.8283 - mean_squared_error: 8.8283\n",
      "Epoch 5/20\n",
      "282/282 [==============================] - 4s 13ms/step - loss: 8.7351 - mean_squared_error: 8.7351\n",
      "Epoch 6/20\n",
      "282/282 [==============================] - 4s 13ms/step - loss: 8.6621 - mean_squared_error: 8.6621\n",
      "Epoch 7/20\n",
      "282/282 [==============================] - 4s 14ms/step - loss: 8.6090 - mean_squared_error: 8.6090\n",
      "Epoch 8/20\n",
      "282/282 [==============================] - 4s 14ms/step - loss: 8.5633 - mean_squared_error: 8.5633\n",
      "Epoch 9/20\n",
      "282/282 [==============================] - 4s 14ms/step - loss: 8.5247 - mean_squared_error: 8.5247\n",
      "Epoch 10/20\n",
      "282/282 [==============================] - 4s 14ms/step - loss: 8.4582 - mean_squared_error: 8.4582\n",
      "Epoch 11/20\n",
      "282/282 [==============================] - 4s 14ms/step - loss: 8.3991 - mean_squared_error: 8.3991\n",
      "Epoch 12/20\n",
      "282/282 [==============================] - 4s 14ms/step - loss: 8.3493 - mean_squared_error: 8.3493\n",
      "Epoch 13/20\n",
      "282/282 [==============================] - 4s 13ms/step - loss: 8.2865 - mean_squared_error: 8.2865\n",
      "Epoch 14/20\n",
      "282/282 [==============================] - 4s 14ms/step - loss: 8.2110 - mean_squared_error: 8.2110\n",
      "Epoch 15/20\n",
      "282/282 [==============================] - 4s 14ms/step - loss: 8.1668 - mean_squared_error: 8.1668\n",
      "Epoch 16/20\n",
      "282/282 [==============================] - 4s 14ms/step - loss: 8.1067 - mean_squared_error: 8.1067\n",
      "Epoch 17/20\n",
      "282/282 [==============================] - 4s 14ms/step - loss: 8.0445 - mean_squared_error: 8.0445\n",
      "Epoch 18/20\n",
      "282/282 [==============================] - 4s 14ms/step - loss: 7.9839 - mean_squared_error: 7.9839\n",
      "Epoch 19/20\n",
      "282/282 [==============================] - 4s 14ms/step - loss: 7.9263 - mean_squared_error: 7.9263\n",
      "Epoch 20/20\n",
      "282/282 [==============================] - 4s 14ms/step - loss: 7.8601 - mean_squared_error: 7.8601\n",
      "INFO:tensorflow:Assets written to: ./structured_data_regressor/best_model/assets\n"
     ]
    }
   ],
   "source": [
    "# Feed the AutoModel with training data.\n",
    "pass6model.fit(M_train, mat_train, epochs=20)"
   ]
  },
  {
   "cell_type": "code",
   "execution_count": 43,
   "metadata": {},
   "outputs": [],
   "source": [
    "# Predict with the best model.\n",
    "mat_tr_6pred = pass6model.predict(M_train)\n",
    "mat_test_6pred = pass6model.predict(M_test)"
   ]
  },
  {
   "cell_type": "code",
   "execution_count": 49,
   "metadata": {},
   "outputs": [
    {
     "name": "stdout",
     "output_type": "stream",
     "text": [
      "Training score for pass 6: 0.24812649745659826\n",
      "Test score for pass 6: 0.2621611278858461\n"
     ]
    }
   ],
   "source": [
    "# Evaluate the best model with testing data.\n",
    "print(\"Training score for pass 6:\",weight_mse(mat_train,mat_tr_6pred))\n",
    "print('Test score for pass 6:',weight_mse(mat_test,mat_test_6pred))"
   ]
  },
  {
   "cell_type": "code",
   "execution_count": 52,
   "metadata": {},
   "outputs": [
    {
     "name": "stdout",
     "output_type": "stream",
     "text": [
      "Model: \"functional_1\"\n",
      "_________________________________________________________________\n",
      "Layer (type)                 Output Shape              Param #   \n",
      "=================================================================\n",
      "input_1 (InputLayer)         [(None, 900)]             0         \n",
      "_________________________________________________________________\n",
      "multi_category_encoding (Mul (None, 900)               0         \n",
      "_________________________________________________________________\n",
      "normalization (Normalization (None, 900)               1801      \n",
      "_________________________________________________________________\n",
      "dense (Dense)                (None, 16)                14416     \n",
      "_________________________________________________________________\n",
      "batch_normalization (BatchNo (None, 16)                64        \n",
      "_________________________________________________________________\n",
      "re_lu (ReLU)                 (None, 16)                0         \n",
      "_________________________________________________________________\n",
      "dense_1 (Dense)              (None, 1024)              17408     \n",
      "_________________________________________________________________\n",
      "batch_normalization_1 (Batch (None, 1024)              4096      \n",
      "_________________________________________________________________\n",
      "re_lu_1 (ReLU)               (None, 1024)              0         \n",
      "_________________________________________________________________\n",
      "dense_2 (Dense)              (None, 16)                16400     \n",
      "_________________________________________________________________\n",
      "batch_normalization_2 (Batch (None, 16)                64        \n",
      "_________________________________________________________________\n",
      "re_lu_2 (ReLU)               (None, 16)                0         \n",
      "_________________________________________________________________\n",
      "regression_head_1 (Dense)    (None, 4)                 68        \n",
      "=================================================================\n",
      "Total params: 54,317\n",
      "Trainable params: 50,404\n",
      "Non-trainable params: 3,913\n",
      "_________________________________________________________________\n"
     ]
    }
   ],
   "source": [
    "k6model = pass6model.export_model()\n",
    "k6model.summary()"
   ]
  },
  {
   "cell_type": "markdown",
   "metadata": {},
   "source": [
    "## Evaluation and Next Steps"
   ]
  },
  {
   "cell_type": "markdown",
   "metadata": {},
   "source": [
    "Overcome the custom loss / metric problem, possibly by rerunning the models with no custom items but exploiting the existing model state.\n",
    "\n",
    "Plot predictions for each network.\n",
    "\n",
    "Export best model(s) to keras (!!!!!!):\n",
    "```kmodel = passnmodel.export_model()\n",
    "model.summary()```\n",
    "\n",
    "Manual customization based on details from keras summary output."
   ]
  },
  {
   "cell_type": "markdown",
   "metadata": {},
   "source": [
    "Tried most of that. Now concerned that models did not save enough of their optimized state under the actual error metric and they drifted off. May need to really drill down far enough to find out how to compose working keras loss and metric structures."
   ]
  },
  {
   "cell_type": "code",
   "execution_count": null,
   "metadata": {},
   "outputs": [],
   "source": []
  }
 ],
 "metadata": {
  "kernelspec": {
   "display_name": "Python 3",
   "language": "python",
   "name": "python3"
  },
  "language_info": {
   "codemirror_mode": {
    "name": "ipython",
    "version": 3
   },
   "file_extension": ".py",
   "mimetype": "text/x-python",
   "name": "python",
   "nbconvert_exporter": "python",
   "pygments_lexer": "ipython3",
   "version": "3.8.5"
  }
 },
 "nbformat": 4,
 "nbformat_minor": 4
}

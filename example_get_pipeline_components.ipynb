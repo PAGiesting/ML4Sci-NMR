{
 "cells": [
  {
   "cell_type": "code",
   "execution_count": 1,
   "metadata": {},
   "outputs": [
    {
     "ename": "ModuleNotFoundError",
     "evalue": "No module named 'matplotlib'",
     "output_type": "error",
     "traceback": [
      "\u001b[0;31m---------------------------------------------------------------------------\u001b[0m",
      "\u001b[0;31mModuleNotFoundError\u001b[0m                       Traceback (most recent call last)",
      "\u001b[0;32m<ipython-input-1-9e3324102725>\u001b[0m in \u001b[0;36m<module>\u001b[0;34m\u001b[0m\n\u001b[0;32m----> 1\u001b[0;31m \u001b[0mget_ipython\u001b[0m\u001b[0;34m(\u001b[0m\u001b[0;34m)\u001b[0m\u001b[0;34m.\u001b[0m\u001b[0mrun_line_magic\u001b[0m\u001b[0;34m(\u001b[0m\u001b[0;34m'matplotlib'\u001b[0m\u001b[0;34m,\u001b[0m \u001b[0;34m'inline'\u001b[0m\u001b[0;34m)\u001b[0m\u001b[0;34m\u001b[0m\u001b[0;34m\u001b[0m\u001b[0m\n\u001b[0m",
      "\u001b[0;32m/usr/local/lib/python3.6/dist-packages/IPython/core/interactiveshell.py\u001b[0m in \u001b[0;36mrun_line_magic\u001b[0;34m(self, magic_name, line, _stack_depth)\u001b[0m\n\u001b[1;32m   2324\u001b[0m                 \u001b[0mkwargs\u001b[0m\u001b[0;34m[\u001b[0m\u001b[0;34m'local_ns'\u001b[0m\u001b[0;34m]\u001b[0m \u001b[0;34m=\u001b[0m \u001b[0msys\u001b[0m\u001b[0;34m.\u001b[0m\u001b[0m_getframe\u001b[0m\u001b[0;34m(\u001b[0m\u001b[0mstack_depth\u001b[0m\u001b[0;34m)\u001b[0m\u001b[0;34m.\u001b[0m\u001b[0mf_locals\u001b[0m\u001b[0;34m\u001b[0m\u001b[0;34m\u001b[0m\u001b[0m\n\u001b[1;32m   2325\u001b[0m             \u001b[0;32mwith\u001b[0m \u001b[0mself\u001b[0m\u001b[0;34m.\u001b[0m\u001b[0mbuiltin_trap\u001b[0m\u001b[0;34m:\u001b[0m\u001b[0;34m\u001b[0m\u001b[0;34m\u001b[0m\u001b[0m\n\u001b[0;32m-> 2326\u001b[0;31m                 \u001b[0mresult\u001b[0m \u001b[0;34m=\u001b[0m \u001b[0mfn\u001b[0m\u001b[0;34m(\u001b[0m\u001b[0;34m*\u001b[0m\u001b[0margs\u001b[0m\u001b[0;34m,\u001b[0m \u001b[0;34m**\u001b[0m\u001b[0mkwargs\u001b[0m\u001b[0;34m)\u001b[0m\u001b[0;34m\u001b[0m\u001b[0;34m\u001b[0m\u001b[0m\n\u001b[0m\u001b[1;32m   2327\u001b[0m             \u001b[0;32mreturn\u001b[0m \u001b[0mresult\u001b[0m\u001b[0;34m\u001b[0m\u001b[0;34m\u001b[0m\u001b[0m\n\u001b[1;32m   2328\u001b[0m \u001b[0;34m\u001b[0m\u001b[0m\n",
      "\u001b[0;32m<decorator-gen-108>\u001b[0m in \u001b[0;36mmatplotlib\u001b[0;34m(self, line)\u001b[0m\n",
      "\u001b[0;32m/usr/local/lib/python3.6/dist-packages/IPython/core/magic.py\u001b[0m in \u001b[0;36m<lambda>\u001b[0;34m(f, *a, **k)\u001b[0m\n\u001b[1;32m    185\u001b[0m     \u001b[0;31m# but it's overkill for just that one bit of state.\u001b[0m\u001b[0;34m\u001b[0m\u001b[0;34m\u001b[0m\u001b[0;34m\u001b[0m\u001b[0m\n\u001b[1;32m    186\u001b[0m     \u001b[0;32mdef\u001b[0m \u001b[0mmagic_deco\u001b[0m\u001b[0;34m(\u001b[0m\u001b[0marg\u001b[0m\u001b[0;34m)\u001b[0m\u001b[0;34m:\u001b[0m\u001b[0;34m\u001b[0m\u001b[0;34m\u001b[0m\u001b[0m\n\u001b[0;32m--> 187\u001b[0;31m         \u001b[0mcall\u001b[0m \u001b[0;34m=\u001b[0m \u001b[0;32mlambda\u001b[0m \u001b[0mf\u001b[0m\u001b[0;34m,\u001b[0m \u001b[0;34m*\u001b[0m\u001b[0ma\u001b[0m\u001b[0;34m,\u001b[0m \u001b[0;34m**\u001b[0m\u001b[0mk\u001b[0m\u001b[0;34m:\u001b[0m \u001b[0mf\u001b[0m\u001b[0;34m(\u001b[0m\u001b[0;34m*\u001b[0m\u001b[0ma\u001b[0m\u001b[0;34m,\u001b[0m \u001b[0;34m**\u001b[0m\u001b[0mk\u001b[0m\u001b[0;34m)\u001b[0m\u001b[0;34m\u001b[0m\u001b[0;34m\u001b[0m\u001b[0m\n\u001b[0m\u001b[1;32m    188\u001b[0m \u001b[0;34m\u001b[0m\u001b[0m\n\u001b[1;32m    189\u001b[0m         \u001b[0;32mif\u001b[0m \u001b[0mcallable\u001b[0m\u001b[0;34m(\u001b[0m\u001b[0marg\u001b[0m\u001b[0;34m)\u001b[0m\u001b[0;34m:\u001b[0m\u001b[0;34m\u001b[0m\u001b[0;34m\u001b[0m\u001b[0m\n",
      "\u001b[0;32m/usr/local/lib/python3.6/dist-packages/IPython/core/magics/pylab.py\u001b[0m in \u001b[0;36mmatplotlib\u001b[0;34m(self, line)\u001b[0m\n\u001b[1;32m     97\u001b[0m             \u001b[0mprint\u001b[0m\u001b[0;34m(\u001b[0m\u001b[0;34m\"Available matplotlib backends: %s\"\u001b[0m \u001b[0;34m%\u001b[0m \u001b[0mbackends_list\u001b[0m\u001b[0;34m)\u001b[0m\u001b[0;34m\u001b[0m\u001b[0;34m\u001b[0m\u001b[0m\n\u001b[1;32m     98\u001b[0m         \u001b[0;32melse\u001b[0m\u001b[0;34m:\u001b[0m\u001b[0;34m\u001b[0m\u001b[0;34m\u001b[0m\u001b[0m\n\u001b[0;32m---> 99\u001b[0;31m             \u001b[0mgui\u001b[0m\u001b[0;34m,\u001b[0m \u001b[0mbackend\u001b[0m \u001b[0;34m=\u001b[0m \u001b[0mself\u001b[0m\u001b[0;34m.\u001b[0m\u001b[0mshell\u001b[0m\u001b[0;34m.\u001b[0m\u001b[0menable_matplotlib\u001b[0m\u001b[0;34m(\u001b[0m\u001b[0margs\u001b[0m\u001b[0;34m.\u001b[0m\u001b[0mgui\u001b[0m\u001b[0;34m.\u001b[0m\u001b[0mlower\u001b[0m\u001b[0;34m(\u001b[0m\u001b[0;34m)\u001b[0m \u001b[0;32mif\u001b[0m \u001b[0misinstance\u001b[0m\u001b[0;34m(\u001b[0m\u001b[0margs\u001b[0m\u001b[0;34m.\u001b[0m\u001b[0mgui\u001b[0m\u001b[0;34m,\u001b[0m \u001b[0mstr\u001b[0m\u001b[0;34m)\u001b[0m \u001b[0;32melse\u001b[0m \u001b[0margs\u001b[0m\u001b[0;34m.\u001b[0m\u001b[0mgui\u001b[0m\u001b[0;34m)\u001b[0m\u001b[0;34m\u001b[0m\u001b[0;34m\u001b[0m\u001b[0m\n\u001b[0m\u001b[1;32m    100\u001b[0m             \u001b[0mself\u001b[0m\u001b[0;34m.\u001b[0m\u001b[0m_show_matplotlib_backend\u001b[0m\u001b[0;34m(\u001b[0m\u001b[0margs\u001b[0m\u001b[0;34m.\u001b[0m\u001b[0mgui\u001b[0m\u001b[0;34m,\u001b[0m \u001b[0mbackend\u001b[0m\u001b[0;34m)\u001b[0m\u001b[0;34m\u001b[0m\u001b[0;34m\u001b[0m\u001b[0m\n\u001b[1;32m    101\u001b[0m \u001b[0;34m\u001b[0m\u001b[0m\n",
      "\u001b[0;32m/usr/local/lib/python3.6/dist-packages/IPython/core/interactiveshell.py\u001b[0m in \u001b[0;36menable_matplotlib\u001b[0;34m(self, gui)\u001b[0m\n\u001b[1;32m   3417\u001b[0m         \"\"\"\n\u001b[1;32m   3418\u001b[0m         \u001b[0;32mfrom\u001b[0m \u001b[0mIPython\u001b[0m\u001b[0;34m.\u001b[0m\u001b[0mcore\u001b[0m \u001b[0;32mimport\u001b[0m \u001b[0mpylabtools\u001b[0m \u001b[0;32mas\u001b[0m \u001b[0mpt\u001b[0m\u001b[0;34m\u001b[0m\u001b[0;34m\u001b[0m\u001b[0m\n\u001b[0;32m-> 3419\u001b[0;31m         \u001b[0mgui\u001b[0m\u001b[0;34m,\u001b[0m \u001b[0mbackend\u001b[0m \u001b[0;34m=\u001b[0m \u001b[0mpt\u001b[0m\u001b[0;34m.\u001b[0m\u001b[0mfind_gui_and_backend\u001b[0m\u001b[0;34m(\u001b[0m\u001b[0mgui\u001b[0m\u001b[0;34m,\u001b[0m \u001b[0mself\u001b[0m\u001b[0;34m.\u001b[0m\u001b[0mpylab_gui_select\u001b[0m\u001b[0;34m)\u001b[0m\u001b[0;34m\u001b[0m\u001b[0;34m\u001b[0m\u001b[0m\n\u001b[0m\u001b[1;32m   3420\u001b[0m \u001b[0;34m\u001b[0m\u001b[0m\n\u001b[1;32m   3421\u001b[0m         \u001b[0;32mif\u001b[0m \u001b[0mgui\u001b[0m \u001b[0;34m!=\u001b[0m \u001b[0;34m'inline'\u001b[0m\u001b[0;34m:\u001b[0m\u001b[0;34m\u001b[0m\u001b[0;34m\u001b[0m\u001b[0m\n",
      "\u001b[0;32m/usr/local/lib/python3.6/dist-packages/IPython/core/pylabtools.py\u001b[0m in \u001b[0;36mfind_gui_and_backend\u001b[0;34m(gui, gui_select)\u001b[0m\n\u001b[1;32m    278\u001b[0m     \"\"\"\n\u001b[1;32m    279\u001b[0m \u001b[0;34m\u001b[0m\u001b[0m\n\u001b[0;32m--> 280\u001b[0;31m     \u001b[0;32mimport\u001b[0m \u001b[0mmatplotlib\u001b[0m\u001b[0;34m\u001b[0m\u001b[0;34m\u001b[0m\u001b[0m\n\u001b[0m\u001b[1;32m    281\u001b[0m \u001b[0;34m\u001b[0m\u001b[0m\n\u001b[1;32m    282\u001b[0m     \u001b[0;32mif\u001b[0m \u001b[0mgui\u001b[0m \u001b[0;32mand\u001b[0m \u001b[0mgui\u001b[0m \u001b[0;34m!=\u001b[0m \u001b[0;34m'auto'\u001b[0m\u001b[0;34m:\u001b[0m\u001b[0;34m\u001b[0m\u001b[0;34m\u001b[0m\u001b[0m\n",
      "\u001b[0;31mModuleNotFoundError\u001b[0m: No module named 'matplotlib'"
     ]
    }
   ],
   "source": [
    "%matplotlib inline"
   ]
  },
  {
   "cell_type": "markdown",
   "metadata": {},
   "source": [
    "\n",
    "# Obtain run information\n",
    "\n",
    "The following example shows how to obtain information from a finished\n",
    "Auto-sklearn run. In particular, it shows:\n",
    "* how to query which models were evaluated by Auto-sklearn\n",
    "* how to query the models in the final ensemble\n",
    "* how to get general statistics on the what Auto-sklearn evaluated\n",
    "\n",
    "Auto-sklearn is a wrapper on top of\n",
    "the sklearn models. This example illustrates how to interact\n",
    "with the sklearn components directly, in this case a PCA preprocessor.\n"
   ]
  },
  {
   "cell_type": "code",
   "execution_count": 2,
   "metadata": {},
   "outputs": [],
   "source": [
    "import sklearn.datasets\n",
    "import sklearn.metrics\n",
    "\n",
    "import autosklearn.classification"
   ]
  },
  {
   "cell_type": "markdown",
   "metadata": {},
   "source": [
    "## Data Loading\n",
    "\n"
   ]
  },
  {
   "cell_type": "code",
   "execution_count": 3,
   "metadata": {},
   "outputs": [],
   "source": [
    "X, y = sklearn.datasets.load_breast_cancer(return_X_y=True)\n",
    "X_train, X_test, y_train, y_test = \\\n",
    "    sklearn.model_selection.train_test_split(X, y, random_state=1)"
   ]
  },
  {
   "cell_type": "markdown",
   "metadata": {},
   "source": [
    "## Build and fit the classifier\n",
    "\n"
   ]
  },
  {
   "cell_type": "code",
   "execution_count": 4,
   "metadata": {},
   "outputs": [
    {
     "name": "stderr",
     "output_type": "stream",
     "text": [
      "/usr/local/lib/python3.6/dist-packages/sklearn/base.py:197: FutureWarning: From version 0.24, get_params will raise an AttributeError if a parameter cannot be retrieved as an instance attribute. Previously it would return None.\n",
      "  FutureWarning)\n"
     ]
    },
    {
     "data": {
      "text/plain": [
       "AutoSklearnClassifier(dask_client=None,\n",
       "                      delete_output_folder_after_terminate=True,\n",
       "                      delete_tmp_folder_after_terminate=True,\n",
       "                      disable_evaluator_output=False,\n",
       "                      ensemble_memory_limit=1024, ensemble_nbest=50,\n",
       "                      ensemble_size=50, exclude_estimators=None,\n",
       "                      exclude_preprocessors=None, get_smac_object_callback=None,\n",
       "                      include_estimators=None, include_preprocessors=['pca'],\n",
       "                      initial_configurations_via_metalearning=25,\n",
       "                      logging_config=None, max_models_on_disc=50,\n",
       "                      metadata_directory=None, metric=None,\n",
       "                      ml_memory_limit=3072, n_jobs=None, output_folder=None,\n",
       "                      per_run_time_limit=10, resampling_strategy='holdout',\n",
       "                      resampling_strategy_arguments=None, seed=1,\n",
       "                      smac_scenario_args=None, time_left_for_this_task=30,\n",
       "                      tmp_folder=None)"
      ]
     },
     "execution_count": 4,
     "metadata": {},
     "output_type": "execute_result"
    }
   ],
   "source": [
    "automl = autosklearn.classification.AutoSklearnClassifier(\n",
    "    time_left_for_this_task=30,\n",
    "    per_run_time_limit=10,\n",
    "    disable_evaluator_output=False,\n",
    "    # To simplify querying the models in the final ensemble, we\n",
    "    # restrict auto-sklearn to use only pca as a preprocessor\n",
    "    include_preprocessors=['pca'],\n",
    ")\n",
    "automl.fit(X_train, y_train, dataset_name='breast_cancer')"
   ]
  },
  {
   "cell_type": "markdown",
   "metadata": {},
   "source": [
    "## Predict using the model\n",
    "\n"
   ]
  },
  {
   "cell_type": "code",
   "execution_count": 5,
   "metadata": {},
   "outputs": [
    {
     "name": "stdout",
     "output_type": "stream",
     "text": [
      "Accuracy score:0.9440559440559441\n"
     ]
    }
   ],
   "source": [
    "predictions = automl.predict(X_test)\n",
    "print(\"Accuracy score:{}\".format(\n",
    "    sklearn.metrics.accuracy_score(y_test, predictions))\n",
    ")"
   ]
  },
  {
   "cell_type": "markdown",
   "metadata": {},
   "source": [
    "## Report the models found by Auto-Sklearn\n",
    "\n",
    "Auto-sklearn uses\n",
    "`Ensemble Selection <https://www.cs.cornell.edu/~alexn/papers/shotgun.icml04.revised.rev2.pdf>`_\n",
    "to construct ensembles in a post-hoc fashion. The ensemble is a linear\n",
    "weighting of all models constructed during the hyperparameter optimization.\n",
    "This prints the final ensemble. It is a list of tuples, each tuple being\n",
    "the model weight in the ensemble and the model itself.\n",
    "\n"
   ]
  },
  {
   "cell_type": "code",
   "execution_count": 6,
   "metadata": {},
   "outputs": [
    {
     "name": "stdout",
     "output_type": "stream",
     "text": [
      "[(0.360000, SimpleClassificationPipeline({'balancing:strategy': 'none', 'classifier:__choice__': 'passive_aggressive', 'data_preprocessing:categorical_transformer:categorical_encoding:__choice__': 'one_hot_encoding', 'data_preprocessing:categorical_transformer:category_coalescence:__choice__': 'minority_coalescer', 'data_preprocessing:numerical_transformer:imputation:strategy': 'median', 'data_preprocessing:numerical_transformer:rescaling:__choice__': 'quantile_transformer', 'feature_preprocessor:__choice__': 'pca', 'classifier:passive_aggressive:C': 0.00029343005629408535, 'classifier:passive_aggressive:average': 'False', 'classifier:passive_aggressive:fit_intercept': 'True', 'classifier:passive_aggressive:loss': 'squared_hinge', 'classifier:passive_aggressive:tol': 0.0006217675098852786, 'data_preprocessing:categorical_transformer:category_coalescence:minority_coalescer:minimum_fraction': 0.08644440750922357, 'data_preprocessing:numerical_transformer:rescaling:quantile_transformer:n_quantiles': 1272, 'data_preprocessing:numerical_transformer:rescaling:quantile_transformer:output_distribution': 'uniform', 'feature_preprocessor:pca:keep_variance': 0.867157249218679, 'feature_preprocessor:pca:whiten': 'True'},\n",
      "dataset_properties={\n",
      "  'task': 1,\n",
      "  'sparse': False,\n",
      "  'multilabel': False,\n",
      "  'multiclass': False,\n",
      "  'target_type': 'classification',\n",
      "  'signed': False})),\n",
      "(0.260000, SimpleClassificationPipeline({'balancing:strategy': 'none', 'classifier:__choice__': 'adaboost', 'data_preprocessing:categorical_transformer:categorical_encoding:__choice__': 'no_encoding', 'data_preprocessing:categorical_transformer:category_coalescence:__choice__': 'minority_coalescer', 'data_preprocessing:numerical_transformer:imputation:strategy': 'mean', 'data_preprocessing:numerical_transformer:rescaling:__choice__': 'standardize', 'feature_preprocessor:__choice__': 'pca', 'classifier:adaboost:algorithm': 'SAMME', 'classifier:adaboost:learning_rate': 0.011233995624432622, 'classifier:adaboost:max_depth': 9, 'classifier:adaboost:n_estimators': 477, 'data_preprocessing:categorical_transformer:category_coalescence:minority_coalescer:minimum_fraction': 0.018370622484682127, 'feature_preprocessor:pca:keep_variance': 0.6039710338898471, 'feature_preprocessor:pca:whiten': 'False'},\n",
      "dataset_properties={\n",
      "  'task': 1,\n",
      "  'sparse': False,\n",
      "  'multilabel': False,\n",
      "  'multiclass': False,\n",
      "  'target_type': 'classification',\n",
      "  'signed': False})),\n",
      "(0.160000, SimpleClassificationPipeline({'balancing:strategy': 'none', 'classifier:__choice__': 'qda', 'data_preprocessing:categorical_transformer:categorical_encoding:__choice__': 'no_encoding', 'data_preprocessing:categorical_transformer:category_coalescence:__choice__': 'no_coalescense', 'data_preprocessing:numerical_transformer:imputation:strategy': 'median', 'data_preprocessing:numerical_transformer:rescaling:__choice__': 'minmax', 'feature_preprocessor:__choice__': 'pca', 'classifier:qda:reg_param': 0.0686374607394679, 'feature_preprocessor:pca:keep_variance': 0.8490260132946401, 'feature_preprocessor:pca:whiten': 'False'},\n",
      "dataset_properties={\n",
      "  'task': 1,\n",
      "  'sparse': False,\n",
      "  'multilabel': False,\n",
      "  'multiclass': False,\n",
      "  'target_type': 'classification',\n",
      "  'signed': False})),\n",
      "(0.060000, SimpleClassificationPipeline({'balancing:strategy': 'none', 'classifier:__choice__': 'extra_trees', 'data_preprocessing:categorical_transformer:categorical_encoding:__choice__': 'one_hot_encoding', 'data_preprocessing:categorical_transformer:category_coalescence:__choice__': 'no_coalescense', 'data_preprocessing:numerical_transformer:imputation:strategy': 'mean', 'data_preprocessing:numerical_transformer:rescaling:__choice__': 'none', 'feature_preprocessor:__choice__': 'pca', 'classifier:extra_trees:bootstrap': 'True', 'classifier:extra_trees:criterion': 'entropy', 'classifier:extra_trees:max_depth': 'None', 'classifier:extra_trees:max_features': 0.9728532763078892, 'classifier:extra_trees:max_leaf_nodes': 'None', 'classifier:extra_trees:min_impurity_decrease': 0.0, 'classifier:extra_trees:min_samples_leaf': 13, 'classifier:extra_trees:min_samples_split': 9, 'classifier:extra_trees:min_weight_fraction_leaf': 0.0, 'feature_preprocessor:pca:keep_variance': 0.6651071190864879, 'feature_preprocessor:pca:whiten': 'False'},\n",
      "dataset_properties={\n",
      "  'task': 1,\n",
      "  'sparse': False,\n",
      "  'multilabel': False,\n",
      "  'multiclass': False,\n",
      "  'target_type': 'classification',\n",
      "  'signed': False})),\n",
      "(0.060000, SimpleClassificationPipeline({'balancing:strategy': 'weighting', 'classifier:__choice__': 'decision_tree', 'data_preprocessing:categorical_transformer:categorical_encoding:__choice__': 'no_encoding', 'data_preprocessing:categorical_transformer:category_coalescence:__choice__': 'no_coalescense', 'data_preprocessing:numerical_transformer:imputation:strategy': 'median', 'data_preprocessing:numerical_transformer:rescaling:__choice__': 'robust_scaler', 'feature_preprocessor:__choice__': 'pca', 'classifier:decision_tree:criterion': 'entropy', 'classifier:decision_tree:max_depth_factor': 0.19528416537649318, 'classifier:decision_tree:max_features': 1.0, 'classifier:decision_tree:max_leaf_nodes': 'None', 'classifier:decision_tree:min_impurity_decrease': 0.0, 'classifier:decision_tree:min_samples_leaf': 18, 'classifier:decision_tree:min_samples_split': 2, 'classifier:decision_tree:min_weight_fraction_leaf': 0.0, 'data_preprocessing:numerical_transformer:rescaling:robust_scaler:q_max': 0.9661723276096004, 'data_preprocessing:numerical_transformer:rescaling:robust_scaler:q_min': 0.17240200718198387, 'feature_preprocessor:pca:keep_variance': 0.8823305965496301, 'feature_preprocessor:pca:whiten': 'False'},\n",
      "dataset_properties={\n",
      "  'task': 1,\n",
      "  'sparse': False,\n",
      "  'multilabel': False,\n",
      "  'multiclass': False,\n",
      "  'target_type': 'classification',\n",
      "  'signed': False})),\n",
      "(0.040000, SimpleClassificationPipeline({'balancing:strategy': 'none', 'classifier:__choice__': 'random_forest', 'data_preprocessing:categorical_transformer:categorical_encoding:__choice__': 'one_hot_encoding', 'data_preprocessing:categorical_transformer:category_coalescence:__choice__': 'minority_coalescer', 'data_preprocessing:numerical_transformer:imputation:strategy': 'median', 'data_preprocessing:numerical_transformer:rescaling:__choice__': 'standardize', 'feature_preprocessor:__choice__': 'pca', 'classifier:random_forest:bootstrap': 'True', 'classifier:random_forest:criterion': 'entropy', 'classifier:random_forest:max_depth': 'None', 'classifier:random_forest:max_features': 0.5171921401948987, 'classifier:random_forest:max_leaf_nodes': 'None', 'classifier:random_forest:min_impurity_decrease': 0.0, 'classifier:random_forest:min_samples_leaf': 1, 'classifier:random_forest:min_samples_split': 11, 'classifier:random_forest:min_weight_fraction_leaf': 0.0, 'data_preprocessing:categorical_transformer:category_coalescence:minority_coalescer:minimum_fraction': 0.00037152973978825604, 'feature_preprocessor:pca:keep_variance': 0.6443761023968293, 'feature_preprocessor:pca:whiten': 'True'},\n",
      "dataset_properties={\n",
      "  'task': 1,\n",
      "  'sparse': False,\n",
      "  'multilabel': False,\n",
      "  'multiclass': False,\n",
      "  'target_type': 'classification',\n",
      "  'signed': False})),\n",
      "(0.020000, SimpleClassificationPipeline({'balancing:strategy': 'weighting', 'classifier:__choice__': 'adaboost', 'data_preprocessing:categorical_transformer:categorical_encoding:__choice__': 'no_encoding', 'data_preprocessing:categorical_transformer:category_coalescence:__choice__': 'minority_coalescer', 'data_preprocessing:numerical_transformer:imputation:strategy': 'median', 'data_preprocessing:numerical_transformer:rescaling:__choice__': 'standardize', 'feature_preprocessor:__choice__': 'pca', 'classifier:adaboost:algorithm': 'SAMME', 'classifier:adaboost:learning_rate': 0.015984291290723266, 'classifier:adaboost:max_depth': 7, 'classifier:adaboost:n_estimators': 184, 'data_preprocessing:categorical_transformer:category_coalescence:minority_coalescer:minimum_fraction': 0.010000000000000004, 'feature_preprocessor:pca:keep_variance': 0.9333242689646983, 'feature_preprocessor:pca:whiten': 'False'},\n",
      "dataset_properties={\n",
      "  'task': 1,\n",
      "  'sparse': False,\n",
      "  'multilabel': False,\n",
      "  'multiclass': False,\n",
      "  'target_type': 'classification',\n",
      "  'signed': False})),\n",
      "(0.020000, SimpleClassificationPipeline({'balancing:strategy': 'none', 'classifier:__choice__': 'random_forest', 'data_preprocessing:categorical_transformer:categorical_encoding:__choice__': 'one_hot_encoding', 'data_preprocessing:categorical_transformer:category_coalescence:__choice__': 'minority_coalescer', 'data_preprocessing:numerical_transformer:imputation:strategy': 'mean', 'data_preprocessing:numerical_transformer:rescaling:__choice__': 'standardize', 'feature_preprocessor:__choice__': 'pca', 'classifier:random_forest:bootstrap': 'True', 'classifier:random_forest:criterion': 'gini', 'classifier:random_forest:max_depth': 'None', 'classifier:random_forest:max_features': 0.5, 'classifier:random_forest:max_leaf_nodes': 'None', 'classifier:random_forest:min_impurity_decrease': 0.0, 'classifier:random_forest:min_samples_leaf': 1, 'classifier:random_forest:min_samples_split': 2, 'classifier:random_forest:min_weight_fraction_leaf': 0.0, 'data_preprocessing:categorical_transformer:category_coalescence:minority_coalescer:minimum_fraction': 0.01, 'feature_preprocessor:pca:keep_variance': 0.9999, 'feature_preprocessor:pca:whiten': 'False'},\n",
      "dataset_properties={\n",
      "  'task': 1,\n",
      "  'sparse': False,\n",
      "  'multilabel': False,\n",
      "  'multiclass': False,\n",
      "  'target_type': 'classification',\n",
      "  'signed': False})),\n",
      "(0.020000, SimpleClassificationPipeline({'balancing:strategy': 'none', 'classifier:__choice__': 'k_nearest_neighbors', 'data_preprocessing:categorical_transformer:categorical_encoding:__choice__': 'no_encoding', 'data_preprocessing:categorical_transformer:category_coalescence:__choice__': 'minority_coalescer', 'data_preprocessing:numerical_transformer:imputation:strategy': 'mean', 'data_preprocessing:numerical_transformer:rescaling:__choice__': 'normalize', 'feature_preprocessor:__choice__': 'pca', 'classifier:k_nearest_neighbors:n_neighbors': 2, 'classifier:k_nearest_neighbors:p': 1, 'classifier:k_nearest_neighbors:weights': 'distance', 'data_preprocessing:categorical_transformer:category_coalescence:minority_coalescer:minimum_fraction': 0.019797877010737826, 'feature_preprocessor:pca:keep_variance': 0.8239678741128165, 'feature_preprocessor:pca:whiten': 'False'},\n",
      "dataset_properties={\n",
      "  'task': 1,\n",
      "  'sparse': False,\n",
      "  'multilabel': False,\n",
      "  'multiclass': False,\n",
      "  'target_type': 'classification',\n",
      "  'signed': False})),\n",
      "]\n"
     ]
    }
   ],
   "source": [
    "print(automl.show_models())"
   ]
  },
  {
   "cell_type": "markdown",
   "metadata": {},
   "source": [
    "## Report statistics about the search\n",
    "\n",
    "Print statistics about the auto-sklearn run such as number of\n",
    "iterations, number of models failed with a time out etc.\n",
    "\n"
   ]
  },
  {
   "cell_type": "code",
   "execution_count": 7,
   "metadata": {},
   "outputs": [
    {
     "name": "stdout",
     "output_type": "stream",
     "text": [
      "auto-sklearn results:\n",
      "  Dataset name: breast_cancer\n",
      "  Metric: accuracy\n",
      "  Best validation score: 0.971631\n",
      "  Number of target algorithm runs: 10\n",
      "  Number of successful target algorithm runs: 10\n",
      "  Number of crashed target algorithm runs: 0\n",
      "  Number of target algorithms that exceeded the time limit: 0\n",
      "  Number of target algorithms that exceeded the memory limit: 0\n",
      "\n"
     ]
    }
   ],
   "source": [
    "print(automl.sprint_statistics())"
   ]
  },
  {
   "cell_type": "markdown",
   "metadata": {},
   "source": [
    "## Detailed statistics about the search - part 1\n",
    "\n",
    "Auto-sklearn also keeps detailed statistics of the hyperparameter\n",
    "optimization procedurce, which are stored in a so-called\n",
    "`run history <https://automl.github.io/SMAC3/master/apidoc/smac.\n",
    "runhistory.runhistory.html#smac.runhistory# .runhistory.RunHistory>`_.\n",
    "\n"
   ]
  },
  {
   "cell_type": "code",
   "execution_count": 8,
   "metadata": {},
   "outputs": [
    {
     "name": "stdout",
     "output_type": "stream",
     "text": [
      "<smac.runhistory.runhistory.RunHistory object at 0x7fdf17a030f0>\n"
     ]
    }
   ],
   "source": [
    "print(automl.automl_.runhistory_)"
   ]
  },
  {
   "cell_type": "markdown",
   "metadata": {},
   "source": [
    "Runs are stored inside an ``OrderedDict`` called ``data``:\n",
    "\n"
   ]
  },
  {
   "cell_type": "code",
   "execution_count": 9,
   "metadata": {},
   "outputs": [
    {
     "name": "stdout",
     "output_type": "stream",
     "text": [
      "11\n"
     ]
    }
   ],
   "source": [
    "print(len(automl.automl_.runhistory_.data))"
   ]
  },
  {
   "cell_type": "markdown",
   "metadata": {},
   "source": [
    "Let's iterative over all entries\n",
    "\n"
   ]
  },
  {
   "cell_type": "code",
   "execution_count": 10,
   "metadata": {},
   "outputs": [
    {
     "name": "stdout",
     "output_type": "stream",
     "text": [
      "#########\n",
      "RunKey(config_id=1, instance_id='{\"task_id\": \"breast_cancer\"}', seed=0, budget=0.0)\n",
      "RunValue(cost=0.08510638297872342, time=1.98146390914917, status=<StatusType.SUCCESS: 1>, starttime=1603986204.0138662, endtime=1603986206.0106125, additional_info={'duration': 1.9145457744598389, 'num_run': 2, 'train_loss': 0.0, 'configuration_origin': 'Initial design'})\n",
      "#########\n",
      "RunKey(config_id=2, instance_id='{\"task_id\": \"breast_cancer\"}', seed=0, budget=0.0)\n",
      "RunValue(cost=0.1063829787234043, time=1.580573558807373, status=<StatusType.SUCCESS: 1>, starttime=1603986206.0159862, endtime=1603986207.6095388, additional_info={'duration': 1.5203707218170166, 'num_run': 3, 'train_loss': 0.14385964912280702, 'configuration_origin': 'Initial design'})\n",
      "#########\n",
      "RunKey(config_id=3, instance_id='{\"task_id\": \"breast_cancer\"}', seed=0, budget=0.0)\n",
      "RunValue(cost=0.04255319148936165, time=0.4011805057525635, status=<StatusType.SUCCESS: 1>, starttime=1603986207.6136591, endtime=1603986208.029248, additional_info={'duration': 0.36666154861450195, 'num_run': 4, 'train_loss': 0.0, 'configuration_origin': 'Initial design'})\n",
      "#########\n",
      "RunKey(config_id=4, instance_id='{\"task_id\": \"breast_cancer\"}', seed=0, budget=0.0)\n",
      "RunValue(cost=0.05673758865248224, time=0.40705060958862305, status=<StatusType.SUCCESS: 1>, starttime=1603986208.0332055, endtime=1603986208.4564252, additional_info={'duration': 0.3736381530761719, 'num_run': 5, 'train_loss': 0.0491228070175439, 'configuration_origin': 'Initial design'})\n",
      "#########\n",
      "RunKey(config_id=5, instance_id='{\"task_id\": \"breast_cancer\"}', seed=0, budget=0.0)\n",
      "RunValue(cost=0.05673758865248224, time=0.4736638069152832, status=<StatusType.SUCCESS: 1>, starttime=1603986208.4607089, endtime=1603986208.9476767, additional_info={'duration': 0.43706297874450684, 'num_run': 6, 'train_loss': 0.0, 'configuration_origin': 'Initial design'})\n",
      "#########\n",
      "RunKey(config_id=6, instance_id='{\"task_id\": \"breast_cancer\"}', seed=0, budget=0.0)\n",
      "RunValue(cost=0.1063829787234043, time=0.3441603183746338, status=<StatusType.SUCCESS: 1>, starttime=1603986208.9500608, endtime=1603986209.3073628, additional_info={'duration': 0.3110508918762207, 'num_run': 7, 'train_loss': 0.0, 'configuration_origin': 'Initial design'})\n",
      "#########\n",
      "RunKey(config_id=7, instance_id='{\"task_id\": \"breast_cancer\"}', seed=0, budget=0.0)\n",
      "RunValue(cost=0.14184397163120566, time=0.5836656093597412, status=<StatusType.SUCCESS: 1>, starttime=1603986209.3097997, endtime=1603986209.905944, additional_info={'duration': 0.5172221660614014, 'num_run': 8, 'train_loss': 0.0, 'configuration_origin': 'Initial design'})\n",
      "#########\n",
      "RunKey(config_id=8, instance_id='{\"task_id\": \"breast_cancer\"}', seed=0, budget=0.0)\n",
      "RunValue(cost=0.028368794326241176, time=0.408984899520874, status=<StatusType.SUCCESS: 1>, starttime=1603986214.6225102, endtime=1603986215.045181, additional_info={'duration': 0.3695249557495117, 'num_run': 9, 'train_loss': 0.021052631578947323, 'configuration_origin': 'Random Search (sorted)'})\n",
      "#########\n",
      "RunKey(config_id=9, instance_id='{\"task_id\": \"breast_cancer\"}', seed=0, budget=0.0)\n",
      "RunValue(cost=0.1063829787234043, time=0.47272777557373047, status=<StatusType.SUCCESS: 1>, starttime=1603986215.0730836, endtime=1603986215.5586836, additional_info={'duration': 0.43800806999206543, 'num_run': 10, 'train_loss': 0.13684210526315788, 'configuration_origin': 'Random Search'})\n",
      "#########\n",
      "RunKey(config_id=10, instance_id='{\"task_id\": \"breast_cancer\"}', seed=0, budget=0.0)\n",
      "RunValue(cost=0.05673758865248224, time=1.8190531730651855, status=<StatusType.SUCCESS: 1>, starttime=1603986215.5854242, endtime=1603986217.4208167, additional_info={'duration': 1.7548716068267822, 'num_run': 11, 'train_loss': 0.010526315789473717, 'configuration_origin': 'Random Search'})\n",
      "#########\n",
      "RunKey(config_id=11, instance_id='{\"task_id\": \"breast_cancer\"}', seed=0, budget=0.0)\n",
      "RunValue(cost=2147483647.0, time=0.0, status=<StatusType.RUNNING: 9>, starttime=0.0, endtime=0.0, additional_info=None)\n"
     ]
    }
   ],
   "source": [
    "for run_key in automl.automl_.runhistory_.data:\n",
    "    print('#########')\n",
    "    print(run_key)\n",
    "    print(automl.automl_.runhistory_.data[run_key])"
   ]
  },
  {
   "cell_type": "markdown",
   "metadata": {},
   "source": [
    "and have a detailed look at one entry:\n",
    "\n"
   ]
  },
  {
   "cell_type": "code",
   "execution_count": 11,
   "metadata": {},
   "outputs": [],
   "source": [
    "run_key = list(automl.automl_.runhistory_.data.keys())[0]\n",
    "run_value = automl.automl_.runhistory_.data[run_key]"
   ]
  },
  {
   "cell_type": "markdown",
   "metadata": {},
   "source": [
    "The ``run_key`` contains all information describing a run:\n",
    "\n"
   ]
  },
  {
   "cell_type": "code",
   "execution_count": 12,
   "metadata": {},
   "outputs": [
    {
     "name": "stdout",
     "output_type": "stream",
     "text": [
      "Configuration ID: 1\n",
      "Instance: {\"task_id\": \"breast_cancer\"}\n",
      "Seed: 0\n",
      "Budget: 0.0\n"
     ]
    }
   ],
   "source": [
    "print(\"Configuration ID:\", run_key.config_id)\n",
    "print(\"Instance:\", run_key.instance_id)\n",
    "print(\"Seed:\", run_key.seed)\n",
    "print(\"Budget:\", run_key.budget)"
   ]
  },
  {
   "cell_type": "markdown",
   "metadata": {},
   "source": [
    "and the configuration can be looked up in the run history as well:\n",
    "\n"
   ]
  },
  {
   "cell_type": "code",
   "execution_count": 13,
   "metadata": {},
   "outputs": [
    {
     "name": "stdout",
     "output_type": "stream",
     "text": [
      "Configuration:\n",
      "  balancing:strategy, Value: 'none'\n",
      "  classifier:__choice__, Value: 'random_forest'\n",
      "  classifier:random_forest:bootstrap, Value: 'True'\n",
      "  classifier:random_forest:criterion, Value: 'gini'\n",
      "  classifier:random_forest:max_depth, Constant: 'None'\n",
      "  classifier:random_forest:max_features, Value: 0.5\n",
      "  classifier:random_forest:max_leaf_nodes, Constant: 'None'\n",
      "  classifier:random_forest:min_impurity_decrease, Constant: 0.0\n",
      "  classifier:random_forest:min_samples_leaf, Value: 1\n",
      "  classifier:random_forest:min_samples_split, Value: 2\n",
      "  classifier:random_forest:min_weight_fraction_leaf, Constant: 0.0\n",
      "  data_preprocessing:categorical_transformer:categorical_encoding:__choice__, Value: 'one_hot_encoding'\n",
      "  data_preprocessing:categorical_transformer:category_coalescence:__choice__, Value: 'minority_coalescer'\n",
      "  data_preprocessing:categorical_transformer:category_coalescence:minority_coalescer:minimum_fraction, Value: 0.01\n",
      "  data_preprocessing:numerical_transformer:imputation:strategy, Value: 'mean'\n",
      "  data_preprocessing:numerical_transformer:rescaling:__choice__, Value: 'standardize'\n",
      "  feature_preprocessor:__choice__, Value: 'pca'\n",
      "  feature_preprocessor:pca:keep_variance, Value: 0.9999\n",
      "  feature_preprocessor:pca:whiten, Value: 'False'\n",
      "\n"
     ]
    }
   ],
   "source": [
    "print(automl.automl_.runhistory_.ids_config[run_key.config_id])"
   ]
  },
  {
   "cell_type": "markdown",
   "metadata": {},
   "source": [
    "The only other important entry is the budget in case you are using\n",
    "auto-sklearn with\n",
    "`successive halving <../60_search/example_successive_halving.html>`_.\n",
    "The remaining parts of the key can be ignored for auto-sklearn and are\n",
    "only there because the underlying optimizer, SMAC, can handle more general\n",
    "problems, too.\n",
    "\n"
   ]
  },
  {
   "cell_type": "markdown",
   "metadata": {},
   "source": [
    "The ``run_value`` contains all output from running the configuration:\n",
    "\n"
   ]
  },
  {
   "cell_type": "code",
   "execution_count": 14,
   "metadata": {},
   "outputs": [
    {
     "name": "stdout",
     "output_type": "stream",
     "text": [
      "Cost: 0.08510638297872342\n",
      "Time: 1.98146390914917\n",
      "Status: StatusType.SUCCESS\n",
      "Additional information: {'duration': 1.9145457744598389, 'num_run': 2, 'train_loss': 0.0, 'configuration_origin': 'Initial design'}\n",
      "Start time: 1603986204.0138662\n",
      "End time 1603986206.0106125\n"
     ]
    }
   ],
   "source": [
    "print(\"Cost:\", run_value.cost)\n",
    "print(\"Time:\", run_value.time)\n",
    "print(\"Status:\", run_value.status)\n",
    "print(\"Additional information:\", run_value.additional_info)\n",
    "print(\"Start time:\", run_value.starttime)\n",
    "print(\"End time\", run_value.endtime)"
   ]
  },
  {
   "cell_type": "markdown",
   "metadata": {},
   "source": [
    "Cost is basically the same as a loss. In case the metric to optimize for\n",
    "should be maximized, it is internally transformed into a minimization\n",
    "metric. Additionally, the status type gives information on whether the run\n",
    "was successful, while the additional information's most interesting entry\n",
    "is the internal training loss. Furthermore, there is detailed information\n",
    "on the runtime available.\n",
    "\n"
   ]
  },
  {
   "cell_type": "markdown",
   "metadata": {},
   "source": [
    "As an example, let's find the best configuration evaluated. As\n",
    "Auto-sklearn solves a minimization problem internally, we need to look\n",
    "for the entry with the lowest loss:\n",
    "\n"
   ]
  },
  {
   "cell_type": "code",
   "execution_count": 15,
   "metadata": {},
   "outputs": [
    {
     "name": "stdout",
     "output_type": "stream",
     "text": [
      "Lowest loss: 0.028368794326241176\n",
      "Best configuration: Configuration:\n",
      "  balancing:strategy, Value: 'none'\n",
      "  classifier:__choice__, Value: 'passive_aggressive'\n",
      "  classifier:passive_aggressive:C, Value: 0.00029343005629408535\n",
      "  classifier:passive_aggressive:average, Value: 'False'\n",
      "  classifier:passive_aggressive:fit_intercept, Constant: 'True'\n",
      "  classifier:passive_aggressive:loss, Value: 'squared_hinge'\n",
      "  classifier:passive_aggressive:tol, Value: 0.0006217675098852786\n",
      "  data_preprocessing:categorical_transformer:categorical_encoding:__choice__, Value: 'one_hot_encoding'\n",
      "  data_preprocessing:categorical_transformer:category_coalescence:__choice__, Value: 'minority_coalescer'\n",
      "  data_preprocessing:categorical_transformer:category_coalescence:minority_coalescer:minimum_fraction, Value: 0.08644440750922357\n",
      "  data_preprocessing:numerical_transformer:imputation:strategy, Value: 'median'\n",
      "  data_preprocessing:numerical_transformer:rescaling:__choice__, Value: 'quantile_transformer'\n",
      "  data_preprocessing:numerical_transformer:rescaling:quantile_transformer:n_quantiles, Value: 1272\n",
      "  data_preprocessing:numerical_transformer:rescaling:quantile_transformer:output_distribution, Value: 'uniform'\n",
      "  feature_preprocessor:__choice__, Value: 'pca'\n",
      "  feature_preprocessor:pca:keep_variance, Value: 0.867157249218679\n",
      "  feature_preprocessor:pca:whiten, Value: 'True'\n",
      "\n"
     ]
    }
   ],
   "source": [
    "losses_and_configurations = [\n",
    "    (run_value.cost, run_key.config_id)\n",
    "    for run_key, run_value in automl.automl_.runhistory_.data.items()\n",
    "]\n",
    "losses_and_configurations.sort()\n",
    "print(\"Lowest loss:\", losses_and_configurations[0][0])\n",
    "print(\n",
    "    \"Best configuration:\",\n",
    "    automl.automl_.runhistory_.ids_config[losses_and_configurations[0][1]]\n",
    ")"
   ]
  },
  {
   "cell_type": "markdown",
   "metadata": {},
   "source": [
    "## Detailed statistics about the search - part 2\n",
    "\n",
    "To maintain compatibility with scikit-learn, Auto-sklearn gives the\n",
    "same data as\n",
    "`cv_results_ <https://scikit-learn.org/stable/modules/generated/sklearn.\n",
    "model_selection.GridSearchCV.html>`_.\n",
    "\n"
   ]
  },
  {
   "cell_type": "code",
   "execution_count": 16,
   "metadata": {},
   "outputs": [
    {
     "name": "stdout",
     "output_type": "stream",
     "text": [
      "{'mean_test_score': array([0.91489362, 0.89361702, 0.95744681, 0.94326241, 0.94326241,\n",
      "       0.89361702, 0.85815603, 0.97163121, 0.89361702, 0.94326241]), 'mean_fit_time': array([1.98146391, 1.58057356, 0.40118051, 0.40705061, 0.47366381,\n",
      "       0.34416032, 0.58366561, 0.4089849 , 0.47272778, 1.81905317]), 'params': [{'balancing:strategy': 'none', 'classifier:__choice__': 'random_forest', 'data_preprocessing:categorical_transformer:categorical_encoding:__choice__': 'one_hot_encoding', 'data_preprocessing:categorical_transformer:category_coalescence:__choice__': 'minority_coalescer', 'data_preprocessing:numerical_transformer:imputation:strategy': 'mean', 'data_preprocessing:numerical_transformer:rescaling:__choice__': 'standardize', 'feature_preprocessor:__choice__': 'pca', 'classifier:random_forest:bootstrap': 'True', 'classifier:random_forest:criterion': 'gini', 'classifier:random_forest:max_depth': 'None', 'classifier:random_forest:max_features': 0.5, 'classifier:random_forest:max_leaf_nodes': 'None', 'classifier:random_forest:min_impurity_decrease': 0.0, 'classifier:random_forest:min_samples_leaf': 1, 'classifier:random_forest:min_samples_split': 2, 'classifier:random_forest:min_weight_fraction_leaf': 0.0, 'data_preprocessing:categorical_transformer:category_coalescence:minority_coalescer:minimum_fraction': 0.01, 'feature_preprocessor:pca:keep_variance': 0.9999, 'feature_preprocessor:pca:whiten': 'False'}, {'balancing:strategy': 'none', 'classifier:__choice__': 'extra_trees', 'data_preprocessing:categorical_transformer:categorical_encoding:__choice__': 'one_hot_encoding', 'data_preprocessing:categorical_transformer:category_coalescence:__choice__': 'no_coalescense', 'data_preprocessing:numerical_transformer:imputation:strategy': 'mean', 'data_preprocessing:numerical_transformer:rescaling:__choice__': 'none', 'feature_preprocessor:__choice__': 'pca', 'classifier:extra_trees:bootstrap': 'True', 'classifier:extra_trees:criterion': 'entropy', 'classifier:extra_trees:max_depth': 'None', 'classifier:extra_trees:max_features': 0.9728532763078892, 'classifier:extra_trees:max_leaf_nodes': 'None', 'classifier:extra_trees:min_impurity_decrease': 0.0, 'classifier:extra_trees:min_samples_leaf': 13, 'classifier:extra_trees:min_samples_split': 9, 'classifier:extra_trees:min_weight_fraction_leaf': 0.0, 'feature_preprocessor:pca:keep_variance': 0.6651071190864879, 'feature_preprocessor:pca:whiten': 'False'}, {'balancing:strategy': 'none', 'classifier:__choice__': 'adaboost', 'data_preprocessing:categorical_transformer:categorical_encoding:__choice__': 'no_encoding', 'data_preprocessing:categorical_transformer:category_coalescence:__choice__': 'minority_coalescer', 'data_preprocessing:numerical_transformer:imputation:strategy': 'mean', 'data_preprocessing:numerical_transformer:rescaling:__choice__': 'standardize', 'feature_preprocessor:__choice__': 'pca', 'classifier:adaboost:algorithm': 'SAMME', 'classifier:adaboost:learning_rate': 0.011233995624432622, 'classifier:adaboost:max_depth': 9, 'classifier:adaboost:n_estimators': 477, 'data_preprocessing:categorical_transformer:category_coalescence:minority_coalescer:minimum_fraction': 0.018370622484682127, 'feature_preprocessor:pca:keep_variance': 0.6039710338898471, 'feature_preprocessor:pca:whiten': 'False'}, {'balancing:strategy': 'none', 'classifier:__choice__': 'qda', 'data_preprocessing:categorical_transformer:categorical_encoding:__choice__': 'no_encoding', 'data_preprocessing:categorical_transformer:category_coalescence:__choice__': 'no_coalescense', 'data_preprocessing:numerical_transformer:imputation:strategy': 'median', 'data_preprocessing:numerical_transformer:rescaling:__choice__': 'minmax', 'feature_preprocessor:__choice__': 'pca', 'classifier:qda:reg_param': 0.0686374607394679, 'feature_preprocessor:pca:keep_variance': 0.8490260132946401, 'feature_preprocessor:pca:whiten': 'False'}, {'balancing:strategy': 'weighting', 'classifier:__choice__': 'adaboost', 'data_preprocessing:categorical_transformer:categorical_encoding:__choice__': 'no_encoding', 'data_preprocessing:categorical_transformer:category_coalescence:__choice__': 'minority_coalescer', 'data_preprocessing:numerical_transformer:imputation:strategy': 'median', 'data_preprocessing:numerical_transformer:rescaling:__choice__': 'standardize', 'feature_preprocessor:__choice__': 'pca', 'classifier:adaboost:algorithm': 'SAMME', 'classifier:adaboost:learning_rate': 0.015984291290723266, 'classifier:adaboost:max_depth': 7, 'classifier:adaboost:n_estimators': 184, 'data_preprocessing:categorical_transformer:category_coalescence:minority_coalescer:minimum_fraction': 0.010000000000000004, 'feature_preprocessor:pca:keep_variance': 0.9333242689646983, 'feature_preprocessor:pca:whiten': 'False'}, {'balancing:strategy': 'none', 'classifier:__choice__': 'k_nearest_neighbors', 'data_preprocessing:categorical_transformer:categorical_encoding:__choice__': 'no_encoding', 'data_preprocessing:categorical_transformer:category_coalescence:__choice__': 'minority_coalescer', 'data_preprocessing:numerical_transformer:imputation:strategy': 'mean', 'data_preprocessing:numerical_transformer:rescaling:__choice__': 'normalize', 'feature_preprocessor:__choice__': 'pca', 'classifier:k_nearest_neighbors:n_neighbors': 2, 'classifier:k_nearest_neighbors:p': 1, 'classifier:k_nearest_neighbors:weights': 'distance', 'data_preprocessing:categorical_transformer:category_coalescence:minority_coalescer:minimum_fraction': 0.019797877010737826, 'feature_preprocessor:pca:keep_variance': 0.8239678741128165, 'feature_preprocessor:pca:whiten': 'False'}, {'balancing:strategy': 'weighting', 'classifier:__choice__': 'k_nearest_neighbors', 'data_preprocessing:categorical_transformer:categorical_encoding:__choice__': 'one_hot_encoding', 'data_preprocessing:categorical_transformer:category_coalescence:__choice__': 'no_coalescense', 'data_preprocessing:numerical_transformer:imputation:strategy': 'median', 'data_preprocessing:numerical_transformer:rescaling:__choice__': 'none', 'feature_preprocessor:__choice__': 'pca', 'classifier:k_nearest_neighbors:n_neighbors': 1, 'classifier:k_nearest_neighbors:p': 2, 'classifier:k_nearest_neighbors:weights': 'distance', 'feature_preprocessor:pca:keep_variance': 0.6342574285315175, 'feature_preprocessor:pca:whiten': 'False'}, {'balancing:strategy': 'none', 'classifier:__choice__': 'passive_aggressive', 'data_preprocessing:categorical_transformer:categorical_encoding:__choice__': 'one_hot_encoding', 'data_preprocessing:categorical_transformer:category_coalescence:__choice__': 'minority_coalescer', 'data_preprocessing:numerical_transformer:imputation:strategy': 'median', 'data_preprocessing:numerical_transformer:rescaling:__choice__': 'quantile_transformer', 'feature_preprocessor:__choice__': 'pca', 'classifier:passive_aggressive:C': 0.00029343005629408535, 'classifier:passive_aggressive:average': 'False', 'classifier:passive_aggressive:fit_intercept': 'True', 'classifier:passive_aggressive:loss': 'squared_hinge', 'classifier:passive_aggressive:tol': 0.0006217675098852786, 'data_preprocessing:categorical_transformer:category_coalescence:minority_coalescer:minimum_fraction': 0.08644440750922357, 'data_preprocessing:numerical_transformer:rescaling:quantile_transformer:n_quantiles': 1272, 'data_preprocessing:numerical_transformer:rescaling:quantile_transformer:output_distribution': 'uniform', 'feature_preprocessor:pca:keep_variance': 0.867157249218679, 'feature_preprocessor:pca:whiten': 'True'}, {'balancing:strategy': 'weighting', 'classifier:__choice__': 'decision_tree', 'data_preprocessing:categorical_transformer:categorical_encoding:__choice__': 'no_encoding', 'data_preprocessing:categorical_transformer:category_coalescence:__choice__': 'no_coalescense', 'data_preprocessing:numerical_transformer:imputation:strategy': 'median', 'data_preprocessing:numerical_transformer:rescaling:__choice__': 'robust_scaler', 'feature_preprocessor:__choice__': 'pca', 'classifier:decision_tree:criterion': 'entropy', 'classifier:decision_tree:max_depth_factor': 0.19528416537649318, 'classifier:decision_tree:max_features': 1.0, 'classifier:decision_tree:max_leaf_nodes': 'None', 'classifier:decision_tree:min_impurity_decrease': 0.0, 'classifier:decision_tree:min_samples_leaf': 18, 'classifier:decision_tree:min_samples_split': 2, 'classifier:decision_tree:min_weight_fraction_leaf': 0.0, 'data_preprocessing:numerical_transformer:rescaling:robust_scaler:q_max': 0.9661723276096004, 'data_preprocessing:numerical_transformer:rescaling:robust_scaler:q_min': 0.17240200718198387, 'feature_preprocessor:pca:keep_variance': 0.8823305965496301, 'feature_preprocessor:pca:whiten': 'False'}, {'balancing:strategy': 'none', 'classifier:__choice__': 'random_forest', 'data_preprocessing:categorical_transformer:categorical_encoding:__choice__': 'one_hot_encoding', 'data_preprocessing:categorical_transformer:category_coalescence:__choice__': 'minority_coalescer', 'data_preprocessing:numerical_transformer:imputation:strategy': 'median', 'data_preprocessing:numerical_transformer:rescaling:__choice__': 'standardize', 'feature_preprocessor:__choice__': 'pca', 'classifier:random_forest:bootstrap': 'True', 'classifier:random_forest:criterion': 'entropy', 'classifier:random_forest:max_depth': 'None', 'classifier:random_forest:max_features': 0.5171921401948987, 'classifier:random_forest:max_leaf_nodes': 'None', 'classifier:random_forest:min_impurity_decrease': 0.0, 'classifier:random_forest:min_samples_leaf': 1, 'classifier:random_forest:min_samples_split': 11, 'classifier:random_forest:min_weight_fraction_leaf': 0.0, 'data_preprocessing:categorical_transformer:category_coalescence:minority_coalescer:minimum_fraction': 0.00037152973978825604, 'feature_preprocessor:pca:keep_variance': 0.6443761023968293, 'feature_preprocessor:pca:whiten': 'True'}], 'rank_test_scores': array([ 6,  7,  2,  3,  3,  7, 10,  1,  7,  3]), 'status': ['Success', 'Success', 'Success', 'Success', 'Success', 'Success', 'Success', 'Success', 'Success', 'Success'], 'budgets': [0.0, 0.0, 0.0, 0.0, 0.0, 0.0, 0.0, 0.0, 0.0, 0.0], 'param_balancing:strategy': masked_array(data=['none', 'none', 'none', 'none', 'weighting', 'none',\n",
      "                   'weighting', 'none', 'weighting', 'none'],\n",
      "             mask=[False, False, False, False, False, False, False, False,\n",
      "                   False, False],\n",
      "       fill_value='N/A',\n",
      "            dtype='<U9'), 'param_classifier:__choice__': masked_array(data=['random_forest', 'extra_trees', 'adaboost', 'qda',\n",
      "                   'adaboost', 'k_nearest_neighbors',\n",
      "                   'k_nearest_neighbors', 'passive_aggressive',\n",
      "                   'decision_tree', 'random_forest'],\n",
      "             mask=[False, False, False, False, False, False, False, False,\n",
      "                   False, False],\n",
      "       fill_value='N/A',\n",
      "            dtype='<U19'), 'param_data_preprocessing:categorical_transformer:categorical_encoding:__choice__': masked_array(data=['one_hot_encoding', 'one_hot_encoding', 'no_encoding',\n",
      "                   'no_encoding', 'no_encoding', 'no_encoding',\n",
      "                   'one_hot_encoding', 'one_hot_encoding', 'no_encoding',\n",
      "                   'one_hot_encoding'],\n",
      "             mask=[False, False, False, False, False, False, False, False,\n",
      "                   False, False],\n",
      "       fill_value='N/A',\n",
      "            dtype='<U16'), 'param_data_preprocessing:categorical_transformer:category_coalescence:__choice__': masked_array(data=['minority_coalescer', 'no_coalescense',\n",
      "                   'minority_coalescer', 'no_coalescense',\n",
      "                   'minority_coalescer', 'minority_coalescer',\n",
      "                   'no_coalescense', 'minority_coalescer',\n",
      "                   'no_coalescense', 'minority_coalescer'],\n",
      "             mask=[False, False, False, False, False, False, False, False,\n",
      "                   False, False],\n",
      "       fill_value='N/A',\n",
      "            dtype='<U18'), 'param_data_preprocessing:numerical_transformer:imputation:strategy': masked_array(data=['mean', 'mean', 'mean', 'median', 'median', 'mean',\n",
      "                   'median', 'median', 'median', 'median'],\n",
      "             mask=[False, False, False, False, False, False, False, False,\n",
      "                   False, False],\n",
      "       fill_value='N/A',\n",
      "            dtype='<U6'), 'param_data_preprocessing:numerical_transformer:rescaling:__choice__': masked_array(data=['standardize', 'none', 'standardize', 'minmax',\n",
      "                   'standardize', 'normalize', 'none',\n",
      "                   'quantile_transformer', 'robust_scaler', 'standardize'],\n",
      "             mask=[False, False, False, False, False, False, False, False,\n",
      "                   False, False],\n",
      "       fill_value='N/A',\n",
      "            dtype='<U20'), 'param_feature_preprocessor:__choice__': masked_array(data=['pca', 'pca', 'pca', 'pca', 'pca', 'pca', 'pca', 'pca',\n",
      "                   'pca', 'pca'],\n",
      "             mask=[False, False, False, False, False, False, False, False,\n",
      "                   False, False],\n",
      "       fill_value='N/A',\n",
      "            dtype='<U3'), 'param_classifier:adaboost:algorithm': masked_array(data=[--, --, 'SAMME', --, 'SAMME', --, --, --, --, --],\n",
      "             mask=[ True,  True, False,  True, False,  True,  True,  True,\n",
      "                    True,  True],\n",
      "       fill_value='N/A',\n",
      "            dtype='<U32'), 'param_classifier:adaboost:learning_rate': masked_array(data=[--, --, 0.011233995624432622, --, 0.015984291290723266,\n",
      "                   --, --, --, --, --],\n",
      "             mask=[ True,  True, False,  True, False,  True,  True,  True,\n",
      "                    True,  True],\n",
      "       fill_value=1e+20), 'param_classifier:adaboost:max_depth': masked_array(data=[--, --, 9.0, --, 7.0, --, --, --, --, --],\n",
      "             mask=[ True,  True, False,  True, False,  True,  True,  True,\n",
      "                    True,  True],\n",
      "       fill_value=1e+20), 'param_classifier:adaboost:n_estimators': masked_array(data=[--, --, 477.0, --, 184.0, --, --, --, --, --],\n",
      "             mask=[ True,  True, False,  True, False,  True,  True,  True,\n",
      "                    True,  True],\n",
      "       fill_value=1e+20), 'param_classifier:bernoulli_nb:alpha': masked_array(data=[--, --, --, --, --, --, --, --, --, --],\n",
      "             mask=[ True,  True,  True,  True,  True,  True,  True,  True,\n",
      "                    True,  True],\n",
      "       fill_value=1e+20,\n",
      "            dtype=float64), 'param_classifier:bernoulli_nb:fit_prior': masked_array(data=[--, --, --, --, --, --, --, --, --, --],\n",
      "             mask=[ True,  True,  True,  True,  True,  True,  True,  True,\n",
      "                    True,  True],\n",
      "       fill_value=1e+20,\n",
      "            dtype=float64), 'param_classifier:decision_tree:criterion': masked_array(data=[--, --, --, --, --, --, --, --, 'entropy', --],\n",
      "             mask=[ True,  True,  True,  True,  True,  True,  True,  True,\n",
      "                   False,  True],\n",
      "       fill_value='N/A',\n",
      "            dtype='<U32'), 'param_classifier:decision_tree:max_depth_factor': masked_array(data=[--, --, --, --, --, --, --, --, 0.19528416537649318,\n",
      "                   --],\n",
      "             mask=[ True,  True,  True,  True,  True,  True,  True,  True,\n",
      "                   False,  True],\n",
      "       fill_value=1e+20), 'param_classifier:decision_tree:max_features': masked_array(data=[--, --, --, --, --, --, --, --, 1.0, --],\n",
      "             mask=[ True,  True,  True,  True,  True,  True,  True,  True,\n",
      "                   False,  True],\n",
      "       fill_value=1e+20), 'param_classifier:decision_tree:max_leaf_nodes': masked_array(data=[--, --, --, --, --, --, --, --, 'None', --],\n",
      "             mask=[ True,  True,  True,  True,  True,  True,  True,  True,\n",
      "                   False,  True],\n",
      "       fill_value='N/A',\n",
      "            dtype='<U32'), 'param_classifier:decision_tree:min_impurity_decrease': masked_array(data=[--, --, --, --, --, --, --, --, 0.0, --],\n",
      "             mask=[ True,  True,  True,  True,  True,  True,  True,  True,\n",
      "                   False,  True],\n",
      "       fill_value=1e+20), 'param_classifier:decision_tree:min_samples_leaf': masked_array(data=[--, --, --, --, --, --, --, --, 18.0, --],\n",
      "             mask=[ True,  True,  True,  True,  True,  True,  True,  True,\n",
      "                   False,  True],\n",
      "       fill_value=1e+20), 'param_classifier:decision_tree:min_samples_split': masked_array(data=[--, --, --, --, --, --, --, --, 2.0, --],\n",
      "             mask=[ True,  True,  True,  True,  True,  True,  True,  True,\n",
      "                   False,  True],\n",
      "       fill_value=1e+20), 'param_classifier:decision_tree:min_weight_fraction_leaf': masked_array(data=[--, --, --, --, --, --, --, --, 0.0, --],\n",
      "             mask=[ True,  True,  True,  True,  True,  True,  True,  True,\n",
      "                   False,  True],\n",
      "       fill_value=1e+20), 'param_classifier:extra_trees:bootstrap': masked_array(data=[--, 'True', --, --, --, --, --, --, --, --],\n",
      "             mask=[ True, False,  True,  True,  True,  True,  True,  True,\n",
      "                    True,  True],\n",
      "       fill_value='N/A',\n",
      "            dtype='<U32'), 'param_classifier:extra_trees:criterion': masked_array(data=[--, 'entropy', --, --, --, --, --, --, --, --],\n",
      "             mask=[ True, False,  True,  True,  True,  True,  True,  True,\n",
      "                    True,  True],\n",
      "       fill_value='N/A',\n",
      "            dtype='<U32'), 'param_classifier:extra_trees:max_depth': masked_array(data=[--, 'None', --, --, --, --, --, --, --, --],\n",
      "             mask=[ True, False,  True,  True,  True,  True,  True,  True,\n",
      "                    True,  True],\n",
      "       fill_value='N/A',\n",
      "            dtype='<U32'), 'param_classifier:extra_trees:max_features': masked_array(data=[--, 0.9728532763078892, --, --, --, --, --, --, --, --],\n",
      "             mask=[ True, False,  True,  True,  True,  True,  True,  True,\n",
      "                    True,  True],\n",
      "       fill_value=1e+20), 'param_classifier:extra_trees:max_leaf_nodes': masked_array(data=[--, 'None', --, --, --, --, --, --, --, --],\n",
      "             mask=[ True, False,  True,  True,  True,  True,  True,  True,\n",
      "                    True,  True],\n",
      "       fill_value='N/A',\n",
      "            dtype='<U32'), 'param_classifier:extra_trees:min_impurity_decrease': masked_array(data=[--, 0.0, --, --, --, --, --, --, --, --],\n",
      "             mask=[ True, False,  True,  True,  True,  True,  True,  True,\n",
      "                    True,  True],\n",
      "       fill_value=1e+20), 'param_classifier:extra_trees:min_samples_leaf': masked_array(data=[--, 13.0, --, --, --, --, --, --, --, --],\n",
      "             mask=[ True, False,  True,  True,  True,  True,  True,  True,\n",
      "                    True,  True],\n",
      "       fill_value=1e+20), 'param_classifier:extra_trees:min_samples_split': masked_array(data=[--, 9.0, --, --, --, --, --, --, --, --],\n",
      "             mask=[ True, False,  True,  True,  True,  True,  True,  True,\n",
      "                    True,  True],\n",
      "       fill_value=1e+20), 'param_classifier:extra_trees:min_weight_fraction_leaf': masked_array(data=[--, 0.0, --, --, --, --, --, --, --, --],\n",
      "             mask=[ True, False,  True,  True,  True,  True,  True,  True,\n",
      "                    True,  True],\n",
      "       fill_value=1e+20), 'param_classifier:gradient_boosting:early_stop': masked_array(data=[--, --, --, --, --, --, --, --, --, --],\n",
      "             mask=[ True,  True,  True,  True,  True,  True,  True,  True,\n",
      "                    True,  True],\n",
      "       fill_value=1e+20,\n",
      "            dtype=float64), 'param_classifier:gradient_boosting:l2_regularization': masked_array(data=[--, --, --, --, --, --, --, --, --, --],\n",
      "             mask=[ True,  True,  True,  True,  True,  True,  True,  True,\n",
      "                    True,  True],\n",
      "       fill_value=1e+20,\n",
      "            dtype=float64), 'param_classifier:gradient_boosting:learning_rate': masked_array(data=[--, --, --, --, --, --, --, --, --, --],\n",
      "             mask=[ True,  True,  True,  True,  True,  True,  True,  True,\n",
      "                    True,  True],\n",
      "       fill_value=1e+20,\n",
      "            dtype=float64), 'param_classifier:gradient_boosting:loss': masked_array(data=[--, --, --, --, --, --, --, --, --, --],\n",
      "             mask=[ True,  True,  True,  True,  True,  True,  True,  True,\n",
      "                    True,  True],\n",
      "       fill_value=1e+20,\n",
      "            dtype=float64), 'param_classifier:gradient_boosting:max_bins': masked_array(data=[--, --, --, --, --, --, --, --, --, --],\n",
      "             mask=[ True,  True,  True,  True,  True,  True,  True,  True,\n",
      "                    True,  True],\n",
      "       fill_value=1e+20,\n",
      "            dtype=float64), 'param_classifier:gradient_boosting:max_depth': masked_array(data=[--, --, --, --, --, --, --, --, --, --],\n",
      "             mask=[ True,  True,  True,  True,  True,  True,  True,  True,\n",
      "                    True,  True],\n",
      "       fill_value=1e+20,\n",
      "            dtype=float64), 'param_classifier:gradient_boosting:max_leaf_nodes': masked_array(data=[--, --, --, --, --, --, --, --, --, --],\n",
      "             mask=[ True,  True,  True,  True,  True,  True,  True,  True,\n",
      "                    True,  True],\n",
      "       fill_value=1e+20,\n",
      "            dtype=float64), 'param_classifier:gradient_boosting:min_samples_leaf': masked_array(data=[--, --, --, --, --, --, --, --, --, --],\n",
      "             mask=[ True,  True,  True,  True,  True,  True,  True,  True,\n",
      "                    True,  True],\n",
      "       fill_value=1e+20,\n",
      "            dtype=float64), 'param_classifier:gradient_boosting:scoring': masked_array(data=[--, --, --, --, --, --, --, --, --, --],\n",
      "             mask=[ True,  True,  True,  True,  True,  True,  True,  True,\n",
      "                    True,  True],\n",
      "       fill_value=1e+20,\n",
      "            dtype=float64), 'param_classifier:gradient_boosting:tol': masked_array(data=[--, --, --, --, --, --, --, --, --, --],\n",
      "             mask=[ True,  True,  True,  True,  True,  True,  True,  True,\n",
      "                    True,  True],\n",
      "       fill_value=1e+20,\n",
      "            dtype=float64), 'param_classifier:k_nearest_neighbors:n_neighbors': masked_array(data=[--, --, --, --, --, 2.0, 1.0, --, --, --],\n",
      "             mask=[ True,  True,  True,  True,  True, False, False,  True,\n",
      "                    True,  True],\n",
      "       fill_value=1e+20), 'param_classifier:k_nearest_neighbors:p': masked_array(data=[--, --, --, --, --, 1.0, 2.0, --, --, --],\n",
      "             mask=[ True,  True,  True,  True,  True, False, False,  True,\n",
      "                    True,  True],\n",
      "       fill_value=1e+20), 'param_classifier:k_nearest_neighbors:weights': masked_array(data=[--, --, --, --, --, 'distance', 'distance', --, --, --],\n",
      "             mask=[ True,  True,  True,  True,  True, False, False,  True,\n",
      "                    True,  True],\n",
      "       fill_value='N/A',\n",
      "            dtype='<U32'), 'param_classifier:lda:n_components': masked_array(data=[--, --, --, --, --, --, --, --, --, --],\n",
      "             mask=[ True,  True,  True,  True,  True,  True,  True,  True,\n",
      "                    True,  True],\n",
      "       fill_value=1e+20,\n",
      "            dtype=float64), 'param_classifier:lda:shrinkage': masked_array(data=[--, --, --, --, --, --, --, --, --, --],\n",
      "             mask=[ True,  True,  True,  True,  True,  True,  True,  True,\n",
      "                    True,  True],\n",
      "       fill_value=1e+20,\n",
      "            dtype=float64), 'param_classifier:lda:tol': masked_array(data=[--, --, --, --, --, --, --, --, --, --],\n",
      "             mask=[ True,  True,  True,  True,  True,  True,  True,  True,\n",
      "                    True,  True],\n",
      "       fill_value=1e+20,\n",
      "            dtype=float64), 'param_classifier:liblinear_svc:C': masked_array(data=[--, --, --, --, --, --, --, --, --, --],\n",
      "             mask=[ True,  True,  True,  True,  True,  True,  True,  True,\n",
      "                    True,  True],\n",
      "       fill_value=1e+20,\n",
      "            dtype=float64), 'param_classifier:liblinear_svc:dual': masked_array(data=[--, --, --, --, --, --, --, --, --, --],\n",
      "             mask=[ True,  True,  True,  True,  True,  True,  True,  True,\n",
      "                    True,  True],\n",
      "       fill_value=1e+20,\n",
      "            dtype=float64), 'param_classifier:liblinear_svc:fit_intercept': masked_array(data=[--, --, --, --, --, --, --, --, --, --],\n",
      "             mask=[ True,  True,  True,  True,  True,  True,  True,  True,\n",
      "                    True,  True],\n",
      "       fill_value=1e+20,\n",
      "            dtype=float64), 'param_classifier:liblinear_svc:intercept_scaling': masked_array(data=[--, --, --, --, --, --, --, --, --, --],\n",
      "             mask=[ True,  True,  True,  True,  True,  True,  True,  True,\n",
      "                    True,  True],\n",
      "       fill_value=1e+20,\n",
      "            dtype=float64), 'param_classifier:liblinear_svc:loss': masked_array(data=[--, --, --, --, --, --, --, --, --, --],\n",
      "             mask=[ True,  True,  True,  True,  True,  True,  True,  True,\n",
      "                    True,  True],\n",
      "       fill_value=1e+20,\n",
      "            dtype=float64), 'param_classifier:liblinear_svc:multi_class': masked_array(data=[--, --, --, --, --, --, --, --, --, --],\n",
      "             mask=[ True,  True,  True,  True,  True,  True,  True,  True,\n",
      "                    True,  True],\n",
      "       fill_value=1e+20,\n",
      "            dtype=float64), 'param_classifier:liblinear_svc:penalty': masked_array(data=[--, --, --, --, --, --, --, --, --, --],\n",
      "             mask=[ True,  True,  True,  True,  True,  True,  True,  True,\n",
      "                    True,  True],\n",
      "       fill_value=1e+20,\n",
      "            dtype=float64), 'param_classifier:liblinear_svc:tol': masked_array(data=[--, --, --, --, --, --, --, --, --, --],\n",
      "             mask=[ True,  True,  True,  True,  True,  True,  True,  True,\n",
      "                    True,  True],\n",
      "       fill_value=1e+20,\n",
      "            dtype=float64), 'param_classifier:libsvm_svc:C': masked_array(data=[--, --, --, --, --, --, --, --, --, --],\n",
      "             mask=[ True,  True,  True,  True,  True,  True,  True,  True,\n",
      "                    True,  True],\n",
      "       fill_value=1e+20,\n",
      "            dtype=float64), 'param_classifier:libsvm_svc:gamma': masked_array(data=[--, --, --, --, --, --, --, --, --, --],\n",
      "             mask=[ True,  True,  True,  True,  True,  True,  True,  True,\n",
      "                    True,  True],\n",
      "       fill_value=1e+20,\n",
      "            dtype=float64), 'param_classifier:libsvm_svc:kernel': masked_array(data=[--, --, --, --, --, --, --, --, --, --],\n",
      "             mask=[ True,  True,  True,  True,  True,  True,  True,  True,\n",
      "                    True,  True],\n",
      "       fill_value=1e+20,\n",
      "            dtype=float64), 'param_classifier:libsvm_svc:max_iter': masked_array(data=[--, --, --, --, --, --, --, --, --, --],\n",
      "             mask=[ True,  True,  True,  True,  True,  True,  True,  True,\n",
      "                    True,  True],\n",
      "       fill_value=1e+20,\n",
      "            dtype=float64), 'param_classifier:libsvm_svc:shrinking': masked_array(data=[--, --, --, --, --, --, --, --, --, --],\n",
      "             mask=[ True,  True,  True,  True,  True,  True,  True,  True,\n",
      "                    True,  True],\n",
      "       fill_value=1e+20,\n",
      "            dtype=float64), 'param_classifier:libsvm_svc:tol': masked_array(data=[--, --, --, --, --, --, --, --, --, --],\n",
      "             mask=[ True,  True,  True,  True,  True,  True,  True,  True,\n",
      "                    True,  True],\n",
      "       fill_value=1e+20,\n",
      "            dtype=float64), 'param_classifier:passive_aggressive:C': masked_array(data=[--, --, --, --, --, --, --, 0.00029343005629408535, --,\n",
      "                   --],\n",
      "             mask=[ True,  True,  True,  True,  True,  True,  True, False,\n",
      "                    True,  True],\n",
      "       fill_value=1e+20), 'param_classifier:passive_aggressive:average': masked_array(data=[--, --, --, --, --, --, --, 'False', --, --],\n",
      "             mask=[ True,  True,  True,  True,  True,  True,  True, False,\n",
      "                    True,  True],\n",
      "       fill_value='N/A',\n",
      "            dtype='<U32'), 'param_classifier:passive_aggressive:fit_intercept': masked_array(data=[--, --, --, --, --, --, --, 'True', --, --],\n",
      "             mask=[ True,  True,  True,  True,  True,  True,  True, False,\n",
      "                    True,  True],\n",
      "       fill_value='N/A',\n",
      "            dtype='<U32'), 'param_classifier:passive_aggressive:loss': masked_array(data=[--, --, --, --, --, --, --, 'squared_hinge', --, --],\n",
      "             mask=[ True,  True,  True,  True,  True,  True,  True, False,\n",
      "                    True,  True],\n",
      "       fill_value='N/A',\n",
      "            dtype='<U32'), 'param_classifier:passive_aggressive:tol': masked_array(data=[--, --, --, --, --, --, --, 0.0006217675098852786, --,\n",
      "                   --],\n",
      "             mask=[ True,  True,  True,  True,  True,  True,  True, False,\n",
      "                    True,  True],\n",
      "       fill_value=1e+20), 'param_classifier:qda:reg_param': masked_array(data=[--, --, --, 0.0686374607394679, --, --, --, --, --, --],\n",
      "             mask=[ True,  True,  True, False,  True,  True,  True,  True,\n",
      "                    True,  True],\n",
      "       fill_value=1e+20), 'param_classifier:random_forest:bootstrap': masked_array(data=['True', --, --, --, --, --, --, --, --, 'True'],\n",
      "             mask=[False,  True,  True,  True,  True,  True,  True,  True,\n",
      "                    True, False],\n",
      "       fill_value='N/A',\n",
      "            dtype='<U4'), 'param_classifier:random_forest:criterion': masked_array(data=['gini', --, --, --, --, --, --, --, --, 'entropy'],\n",
      "             mask=[False,  True,  True,  True,  True,  True,  True,  True,\n",
      "                    True, False],\n",
      "       fill_value='N/A',\n",
      "            dtype='<U7'), 'param_classifier:random_forest:max_depth': masked_array(data=['None', --, --, --, --, --, --, --, --, 'None'],\n",
      "             mask=[False,  True,  True,  True,  True,  True,  True,  True,\n",
      "                    True, False],\n",
      "       fill_value='N/A',\n",
      "            dtype='<U4'), 'param_classifier:random_forest:max_features': masked_array(data=[0.5, --, --, --, --, --, --, --, --,\n",
      "                   0.5171921401948987],\n",
      "             mask=[False,  True,  True,  True,  True,  True,  True,  True,\n",
      "                    True, False],\n",
      "       fill_value=1e+20), 'param_classifier:random_forest:max_leaf_nodes': masked_array(data=['None', --, --, --, --, --, --, --, --, 'None'],\n",
      "             mask=[False,  True,  True,  True,  True,  True,  True,  True,\n",
      "                    True, False],\n",
      "       fill_value='N/A',\n",
      "            dtype='<U4'), 'param_classifier:random_forest:min_impurity_decrease': masked_array(data=[0.0, --, --, --, --, --, --, --, --, 0.0],\n",
      "             mask=[False,  True,  True,  True,  True,  True,  True,  True,\n",
      "                    True, False],\n",
      "       fill_value=1e+20), 'param_classifier:random_forest:min_samples_leaf': masked_array(data=[1.0, --, --, --, --, --, --, --, --, 1.0],\n",
      "             mask=[False,  True,  True,  True,  True,  True,  True,  True,\n",
      "                    True, False],\n",
      "       fill_value=1e+20), 'param_classifier:random_forest:min_samples_split': masked_array(data=[2.0, --, --, --, --, --, --, --, --, 11.0],\n",
      "             mask=[False,  True,  True,  True,  True,  True,  True,  True,\n",
      "                    True, False],\n",
      "       fill_value=1e+20), 'param_classifier:random_forest:min_weight_fraction_leaf': masked_array(data=[0.0, --, --, --, --, --, --, --, --, 0.0],\n",
      "             mask=[False,  True,  True,  True,  True,  True,  True,  True,\n",
      "                    True, False],\n",
      "       fill_value=1e+20), 'param_classifier:sgd:alpha': masked_array(data=[--, --, --, --, --, --, --, --, --, --],\n",
      "             mask=[ True,  True,  True,  True,  True,  True,  True,  True,\n",
      "                    True,  True],\n",
      "       fill_value=1e+20,\n",
      "            dtype=float64), 'param_classifier:sgd:average': masked_array(data=[--, --, --, --, --, --, --, --, --, --],\n",
      "             mask=[ True,  True,  True,  True,  True,  True,  True,  True,\n",
      "                    True,  True],\n",
      "       fill_value=1e+20,\n",
      "            dtype=float64), 'param_classifier:sgd:fit_intercept': masked_array(data=[--, --, --, --, --, --, --, --, --, --],\n",
      "             mask=[ True,  True,  True,  True,  True,  True,  True,  True,\n",
      "                    True,  True],\n",
      "       fill_value=1e+20,\n",
      "            dtype=float64), 'param_classifier:sgd:learning_rate': masked_array(data=[--, --, --, --, --, --, --, --, --, --],\n",
      "             mask=[ True,  True,  True,  True,  True,  True,  True,  True,\n",
      "                    True,  True],\n",
      "       fill_value=1e+20,\n",
      "            dtype=float64), 'param_classifier:sgd:loss': masked_array(data=[--, --, --, --, --, --, --, --, --, --],\n",
      "             mask=[ True,  True,  True,  True,  True,  True,  True,  True,\n",
      "                    True,  True],\n",
      "       fill_value=1e+20,\n",
      "            dtype=float64), 'param_classifier:sgd:penalty': masked_array(data=[--, --, --, --, --, --, --, --, --, --],\n",
      "             mask=[ True,  True,  True,  True,  True,  True,  True,  True,\n",
      "                    True,  True],\n",
      "       fill_value=1e+20,\n",
      "            dtype=float64), 'param_classifier:sgd:tol': masked_array(data=[--, --, --, --, --, --, --, --, --, --],\n",
      "             mask=[ True,  True,  True,  True,  True,  True,  True,  True,\n",
      "                    True,  True],\n",
      "       fill_value=1e+20,\n",
      "            dtype=float64), 'param_data_preprocessing:categorical_transformer:category_coalescence:minority_coalescer:minimum_fraction': masked_array(data=[0.01, --, 0.018370622484682127, --,\n",
      "                   0.010000000000000004, 0.019797877010737826, --,\n",
      "                   0.08644440750922357, --, 0.00037152973978825604],\n",
      "             mask=[False,  True, False,  True, False, False,  True, False,\n",
      "                    True, False],\n",
      "       fill_value=1e+20), 'param_data_preprocessing:numerical_transformer:rescaling:quantile_transformer:n_quantiles': masked_array(data=[--, --, --, --, --, --, --, 1272.0, --, --],\n",
      "             mask=[ True,  True,  True,  True,  True,  True,  True, False,\n",
      "                    True,  True],\n",
      "       fill_value=1e+20), 'param_data_preprocessing:numerical_transformer:rescaling:quantile_transformer:output_distribution': masked_array(data=[--, --, --, --, --, --, --, 'uniform', --, --],\n",
      "             mask=[ True,  True,  True,  True,  True,  True,  True, False,\n",
      "                    True,  True],\n",
      "       fill_value='N/A',\n",
      "            dtype='<U32'), 'param_data_preprocessing:numerical_transformer:rescaling:robust_scaler:q_max': masked_array(data=[--, --, --, --, --, --, --, --, 0.9661723276096004, --],\n",
      "             mask=[ True,  True,  True,  True,  True,  True,  True,  True,\n",
      "                   False,  True],\n",
      "       fill_value=1e+20), 'param_data_preprocessing:numerical_transformer:rescaling:robust_scaler:q_min': masked_array(data=[--, --, --, --, --, --, --, --, 0.17240200718198387,\n",
      "                   --],\n",
      "             mask=[ True,  True,  True,  True,  True,  True,  True,  True,\n",
      "                   False,  True],\n",
      "       fill_value=1e+20), 'param_feature_preprocessor:pca:keep_variance': masked_array(data=[0.9999, 0.6651071190864879, 0.6039710338898471,\n",
      "                   0.8490260132946401, 0.9333242689646983,\n",
      "                   0.8239678741128165, 0.6342574285315175,\n",
      "                   0.867157249218679, 0.8823305965496301,\n",
      "                   0.6443761023968293],\n",
      "             mask=[False, False, False, False, False, False, False, False,\n",
      "                   False, False],\n",
      "       fill_value=1e+20), 'param_feature_preprocessor:pca:whiten': masked_array(data=['False', 'False', 'False', 'False', 'False', 'False',\n",
      "                   'False', 'True', 'False', 'True'],\n",
      "             mask=[False, False, False, False, False, False, False, False,\n",
      "                   False, False],\n",
      "       fill_value='N/A',\n",
      "            dtype='<U5'), 'param_classifier:gradient_boosting:n_iter_no_change': masked_array(data=[--, --, --, --, --, --, --, --, --, --],\n",
      "             mask=[ True,  True,  True,  True,  True,  True,  True,  True,\n",
      "                    True,  True],\n",
      "       fill_value=1e+20,\n",
      "            dtype=float64), 'param_classifier:gradient_boosting:validation_fraction': masked_array(data=[--, --, --, --, --, --, --, --, --, --],\n",
      "             mask=[ True,  True,  True,  True,  True,  True,  True,  True,\n",
      "                    True,  True],\n",
      "       fill_value=1e+20,\n",
      "            dtype=float64), 'param_classifier:lda:shrinkage_factor': masked_array(data=[--, --, --, --, --, --, --, --, --, --],\n",
      "             mask=[ True,  True,  True,  True,  True,  True,  True,  True,\n",
      "                    True,  True],\n",
      "       fill_value=1e+20,\n",
      "            dtype=float64), 'param_classifier:libsvm_svc:coef0': masked_array(data=[--, --, --, --, --, --, --, --, --, --],\n",
      "             mask=[ True,  True,  True,  True,  True,  True,  True,  True,\n",
      "                    True,  True],\n",
      "       fill_value=1e+20,\n",
      "            dtype=float64), 'param_classifier:libsvm_svc:degree': masked_array(data=[--, --, --, --, --, --, --, --, --, --],\n",
      "             mask=[ True,  True,  True,  True,  True,  True,  True,  True,\n",
      "                    True,  True],\n",
      "       fill_value=1e+20,\n",
      "            dtype=float64), 'param_classifier:sgd:epsilon': masked_array(data=[--, --, --, --, --, --, --, --, --, --],\n",
      "             mask=[ True,  True,  True,  True,  True,  True,  True,  True,\n",
      "                    True,  True],\n",
      "       fill_value=1e+20,\n",
      "            dtype=float64), 'param_classifier:sgd:eta0': masked_array(data=[--, --, --, --, --, --, --, --, --, --],\n",
      "             mask=[ True,  True,  True,  True,  True,  True,  True,  True,\n",
      "                    True,  True],\n",
      "       fill_value=1e+20,\n",
      "            dtype=float64), 'param_classifier:sgd:l1_ratio': masked_array(data=[--, --, --, --, --, --, --, --, --, --],\n",
      "             mask=[ True,  True,  True,  True,  True,  True,  True,  True,\n",
      "                    True,  True],\n",
      "       fill_value=1e+20,\n",
      "            dtype=float64), 'param_classifier:sgd:power_t': masked_array(data=[--, --, --, --, --, --, --, --, --, --],\n",
      "             mask=[ True,  True,  True,  True,  True,  True,  True,  True,\n",
      "                    True,  True],\n",
      "       fill_value=1e+20,\n",
      "            dtype=float64)}\n"
     ]
    }
   ],
   "source": [
    "print(automl.cv_results_)"
   ]
  },
  {
   "cell_type": "markdown",
   "metadata": {},
   "source": [
    "## Inspect the components of the best model\n",
    "\n",
    "Iterate over the components of the model and print\n",
    "The explained variance ratio per stage\n",
    "\n"
   ]
  },
  {
   "cell_type": "code",
   "execution_count": 17,
   "metadata": {},
   "outputs": [
    {
     "name": "stdout",
     "output_type": "stream",
     "text": [
      "The 0th pipeline has a explained variance of [0.45954161 0.18012095 0.09808836 0.06332952 0.05871665 0.03690454]\n",
      "The 1th pipeline has a explained variance of [0.43295688 0.1790573 ]\n",
      "The 2th pipeline has a explained variance of [0.49503611 0.16649281 0.09111888 0.07213284 0.04865917]\n",
      "The 3th pipeline has a explained variance of [0.98080571]\n",
      "The 4th pipeline has a explained variance of [0.73153912 0.10584539 0.07328331]\n",
      "The 5th pipeline has a explained variance of [0.43295688 0.1790573  0.11173757]\n",
      "The 6th pipeline has a explained variance of [0.43295688 0.1790573  0.11173757 0.06807243 0.05946115 0.03706299\n",
      " 0.0238431  0.01493261 0.01376414]\n",
      "The 7th pipeline has a explained variance of [4.32956881e-01 1.79057296e-01 1.11737571e-01 6.80724345e-02\n",
      " 5.94611519e-02 3.70629898e-02 2.38430977e-02 1.49326086e-02\n",
      " 1.37641366e-02 1.13704890e-02 1.03737258e-02 8.74116751e-03\n",
      " 7.57629717e-03 4.86528503e-03 3.32225143e-03 2.55773043e-03\n",
      " 2.20759805e-03 1.88675402e-03 1.36245140e-03 1.03409213e-03\n",
      " 8.39749085e-04 7.91287172e-04 6.75655689e-04 5.42961621e-04\n",
      " 5.02641737e-04 2.07827509e-04 1.74597367e-04]\n",
      "The 8th pipeline has a explained variance of [0.76699224 0.17152095]\n"
     ]
    }
   ],
   "source": [
    "for i, (weight, pipeline) in enumerate(automl.get_models_with_weights()):\n",
    "    for stage_name, component in pipeline.named_steps.items():\n",
    "        if 'preprocessor' in stage_name:\n",
    "            print(\n",
    "                \"The {}th pipeline has a explained variance of {}\".format(\n",
    "                    i,\n",
    "                    # The component is an instance of AutoSklearnChoice.\n",
    "                    # Access the sklearn object via the choice attribute\n",
    "                    # We want the explained variance attributed of\n",
    "                    # each principal component\n",
    "                    component.choice.preprocessor.explained_variance_ratio_\n",
    "                )\n",
    "            )"
   ]
  },
  {
   "cell_type": "code",
   "execution_count": null,
   "metadata": {},
   "outputs": [],
   "source": []
  }
 ],
 "metadata": {
  "kernelspec": {
   "display_name": "Python 3",
   "language": "python",
   "name": "python3"
  },
  "language_info": {
   "codemirror_mode": {
    "name": "ipython",
    "version": 3
   },
   "file_extension": ".py",
   "mimetype": "text/x-python",
   "name": "python",
   "nbconvert_exporter": "python",
   "pygments_lexer": "ipython3",
   "version": "3.6.9"
  }
 },
 "nbformat": 4,
 "nbformat_minor": 1
}
